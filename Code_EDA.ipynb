{
 "cells": [
  {
   "cell_type": "code",
   "execution_count": 1,
   "metadata": {},
   "outputs": [],
   "source": [
    "import numpy as np\n",
    "import pandas as pd\n",
    "\n",
    "import matplotlib.pyplot as plt\n",
    "import seaborn as sns\n",
    "%matplotlib inline\n",
    "\n",
    "import warnings \n",
    "warnings.filterwarnings('ignore')\n"
   ]
  },
  {
   "cell_type": "code",
   "execution_count": 2,
   "metadata": {},
   "outputs": [],
   "source": [
    "demo_df = pd.read_csv(\"Demographic data.csv\")"
   ]
  },
  {
   "cell_type": "code",
   "execution_count": 3,
   "metadata": {},
   "outputs": [
    {
     "data": {
      "text/html": [
       "<div>\n",
       "<style scoped>\n",
       "    .dataframe tbody tr th:only-of-type {\n",
       "        vertical-align: middle;\n",
       "    }\n",
       "\n",
       "    .dataframe tbody tr th {\n",
       "        vertical-align: top;\n",
       "    }\n",
       "\n",
       "    .dataframe thead th {\n",
       "        text-align: right;\n",
       "    }\n",
       "</style>\n",
       "<table border=\"1\" class=\"dataframe\">\n",
       "  <thead>\n",
       "    <tr style=\"text-align: right;\">\n",
       "      <th></th>\n",
       "      <th>Application ID</th>\n",
       "      <th>Age</th>\n",
       "      <th>Gender</th>\n",
       "      <th>Marital Status (at the time of application)</th>\n",
       "      <th>No of dependents</th>\n",
       "      <th>Income</th>\n",
       "      <th>Education</th>\n",
       "      <th>Profession</th>\n",
       "      <th>Type of residence</th>\n",
       "      <th>No of months in current residence</th>\n",
       "      <th>No of months in current company</th>\n",
       "      <th>Performance Tag</th>\n",
       "    </tr>\n",
       "  </thead>\n",
       "  <tbody>\n",
       "    <tr>\n",
       "      <th>0</th>\n",
       "      <td>954457215</td>\n",
       "      <td>48</td>\n",
       "      <td>F</td>\n",
       "      <td>Married</td>\n",
       "      <td>2.0</td>\n",
       "      <td>40.0</td>\n",
       "      <td>Bachelor</td>\n",
       "      <td>SAL</td>\n",
       "      <td>Rented</td>\n",
       "      <td>113</td>\n",
       "      <td>56</td>\n",
       "      <td>0.0</td>\n",
       "    </tr>\n",
       "    <tr>\n",
       "      <th>1</th>\n",
       "      <td>432830445</td>\n",
       "      <td>31</td>\n",
       "      <td>M</td>\n",
       "      <td>Married</td>\n",
       "      <td>4.0</td>\n",
       "      <td>55.0</td>\n",
       "      <td>Professional</td>\n",
       "      <td>SE_PROF</td>\n",
       "      <td>Rented</td>\n",
       "      <td>112</td>\n",
       "      <td>46</td>\n",
       "      <td>0.0</td>\n",
       "    </tr>\n",
       "    <tr>\n",
       "      <th>2</th>\n",
       "      <td>941387308</td>\n",
       "      <td>32</td>\n",
       "      <td>M</td>\n",
       "      <td>Single</td>\n",
       "      <td>2.0</td>\n",
       "      <td>46.0</td>\n",
       "      <td>Bachelor</td>\n",
       "      <td>SE_PROF</td>\n",
       "      <td>Rented</td>\n",
       "      <td>104</td>\n",
       "      <td>49</td>\n",
       "      <td>0.0</td>\n",
       "    </tr>\n",
       "    <tr>\n",
       "      <th>3</th>\n",
       "      <td>392161677</td>\n",
       "      <td>43</td>\n",
       "      <td>M</td>\n",
       "      <td>Married</td>\n",
       "      <td>1.0</td>\n",
       "      <td>53.0</td>\n",
       "      <td>Bachelor</td>\n",
       "      <td>SE</td>\n",
       "      <td>Rented</td>\n",
       "      <td>94</td>\n",
       "      <td>53</td>\n",
       "      <td>0.0</td>\n",
       "    </tr>\n",
       "    <tr>\n",
       "      <th>4</th>\n",
       "      <td>182011211</td>\n",
       "      <td>35</td>\n",
       "      <td>F</td>\n",
       "      <td>Married</td>\n",
       "      <td>5.0</td>\n",
       "      <td>44.0</td>\n",
       "      <td>Professional</td>\n",
       "      <td>SAL</td>\n",
       "      <td>Rented</td>\n",
       "      <td>112</td>\n",
       "      <td>43</td>\n",
       "      <td>0.0</td>\n",
       "    </tr>\n",
       "  </tbody>\n",
       "</table>\n",
       "</div>"
      ],
      "text/plain": [
       "   Application ID  Age Gender Marital Status (at the time of application)  \\\n",
       "0       954457215   48      F                                     Married   \n",
       "1       432830445   31      M                                     Married   \n",
       "2       941387308   32      M                                      Single   \n",
       "3       392161677   43      M                                     Married   \n",
       "4       182011211   35      F                                     Married   \n",
       "\n",
       "   No of dependents  Income     Education Profession  Type of residence  \\\n",
       "0               2.0    40.0      Bachelor         SAL            Rented   \n",
       "1               4.0    55.0  Professional     SE_PROF            Rented   \n",
       "2               2.0    46.0      Bachelor     SE_PROF            Rented   \n",
       "3               1.0    53.0      Bachelor          SE            Rented   \n",
       "4               5.0    44.0  Professional         SAL            Rented   \n",
       "\n",
       "   No of months in current residence  No of months in current company  \\\n",
       "0                                113                               56   \n",
       "1                                112                               46   \n",
       "2                                104                               49   \n",
       "3                                 94                               53   \n",
       "4                                112                               43   \n",
       "\n",
       "   Performance Tag  \n",
       "0              0.0  \n",
       "1              0.0  \n",
       "2              0.0  \n",
       "3              0.0  \n",
       "4              0.0  "
      ]
     },
     "execution_count": 3,
     "metadata": {},
     "output_type": "execute_result"
    }
   ],
   "source": [
    "demo_df.head()"
   ]
  },
  {
   "cell_type": "code",
   "execution_count": 4,
   "metadata": {},
   "outputs": [
    {
     "name": "stdout",
     "output_type": "stream",
     "text": [
      "<class 'pandas.core.frame.DataFrame'>\n",
      "RangeIndex: 71295 entries, 0 to 71294\n",
      "Data columns (total 12 columns):\n",
      " #   Column                                       Non-Null Count  Dtype  \n",
      "---  ------                                       --------------  -----  \n",
      " 0   Application ID                               71295 non-null  int64  \n",
      " 1   Age                                          71295 non-null  int64  \n",
      " 2   Gender                                       71293 non-null  object \n",
      " 3   Marital Status (at the time of application)  71289 non-null  object \n",
      " 4   No of dependents                             71292 non-null  float64\n",
      " 5   Income                                       71295 non-null  float64\n",
      " 6   Education                                    71176 non-null  object \n",
      " 7   Profession                                   71281 non-null  object \n",
      " 8   Type of residence                            71287 non-null  object \n",
      " 9   No of months in current residence            71295 non-null  int64  \n",
      " 10  No of months in current company              71295 non-null  int64  \n",
      " 11  Performance Tag                              69870 non-null  float64\n",
      "dtypes: float64(3), int64(4), object(5)\n",
      "memory usage: 6.5+ MB\n"
     ]
    }
   ],
   "source": [
    "demo_df.info()"
   ]
  },
  {
   "cell_type": "code",
   "execution_count": 5,
   "metadata": {},
   "outputs": [
    {
     "data": {
      "text/plain": [
       "Application ID                                    0\n",
       "Age                                               0\n",
       "Gender                                            2\n",
       "Marital Status (at the time of application)       6\n",
       "No of dependents                                  3\n",
       "Income                                            0\n",
       "Education                                       119\n",
       "Profession                                       14\n",
       "Type of residence                                 8\n",
       "No of months in current residence                 0\n",
       "No of months in current company                   0\n",
       "Performance Tag                                1425\n",
       "dtype: int64"
      ]
     },
     "execution_count": 5,
     "metadata": {},
     "output_type": "execute_result"
    }
   ],
   "source": [
    "demo_df.isnull().sum()"
   ]
  },
  {
   "cell_type": "code",
   "execution_count": 6,
   "metadata": {},
   "outputs": [],
   "source": [
    "credit_df = pd.read_csv(\"Credit Bureau data.csv\")"
   ]
  },
  {
   "cell_type": "code",
   "execution_count": 7,
   "metadata": {},
   "outputs": [
    {
     "data": {
      "text/html": [
       "<div>\n",
       "<style scoped>\n",
       "    .dataframe tbody tr th:only-of-type {\n",
       "        vertical-align: middle;\n",
       "    }\n",
       "\n",
       "    .dataframe tbody tr th {\n",
       "        vertical-align: top;\n",
       "    }\n",
       "\n",
       "    .dataframe thead th {\n",
       "        text-align: right;\n",
       "    }\n",
       "</style>\n",
       "<table border=\"1\" class=\"dataframe\">\n",
       "  <thead>\n",
       "    <tr style=\"text-align: right;\">\n",
       "      <th></th>\n",
       "      <th>Application ID</th>\n",
       "      <th>No of times 90 DPD or worse in last 6 months</th>\n",
       "      <th>No of times 60 DPD or worse in last 6 months</th>\n",
       "      <th>No of times 30 DPD or worse in last 6 months</th>\n",
       "      <th>No of times 90 DPD or worse in last 12 months</th>\n",
       "      <th>No of times 60 DPD or worse in last 12 months</th>\n",
       "      <th>No of times 30 DPD or worse in last 12 months</th>\n",
       "      <th>Avgas CC Utilization in last 12 months</th>\n",
       "      <th>No of trades opened in last 6 months</th>\n",
       "      <th>No of trades opened in last 12 months</th>\n",
       "      <th>No of PL trades opened in last 6 months</th>\n",
       "      <th>No of PL trades opened in last 12 months</th>\n",
       "      <th>No of Inquiries in last 6 months (excluding home &amp; auto loans)</th>\n",
       "      <th>No of Inquiries in last 12 months (excluding home &amp; auto loans)</th>\n",
       "      <th>Presence of open home loan</th>\n",
       "      <th>Outstanding Balance</th>\n",
       "      <th>Total No of Trades</th>\n",
       "      <th>Presence of open auto loan</th>\n",
       "      <th>Performance Tag</th>\n",
       "    </tr>\n",
       "  </thead>\n",
       "  <tbody>\n",
       "    <tr>\n",
       "      <th>0</th>\n",
       "      <td>954457215</td>\n",
       "      <td>0</td>\n",
       "      <td>0</td>\n",
       "      <td>0</td>\n",
       "      <td>0</td>\n",
       "      <td>0</td>\n",
       "      <td>0</td>\n",
       "      <td>4.0</td>\n",
       "      <td>1.0</td>\n",
       "      <td>2</td>\n",
       "      <td>0</td>\n",
       "      <td>0</td>\n",
       "      <td>0</td>\n",
       "      <td>0</td>\n",
       "      <td>1.0</td>\n",
       "      <td>2999395.0</td>\n",
       "      <td>4</td>\n",
       "      <td>0</td>\n",
       "      <td>0.0</td>\n",
       "    </tr>\n",
       "    <tr>\n",
       "      <th>1</th>\n",
       "      <td>432830445</td>\n",
       "      <td>0</td>\n",
       "      <td>0</td>\n",
       "      <td>0</td>\n",
       "      <td>0</td>\n",
       "      <td>0</td>\n",
       "      <td>0</td>\n",
       "      <td>3.0</td>\n",
       "      <td>1.0</td>\n",
       "      <td>2</td>\n",
       "      <td>0</td>\n",
       "      <td>0</td>\n",
       "      <td>0</td>\n",
       "      <td>0</td>\n",
       "      <td>0.0</td>\n",
       "      <td>3078.0</td>\n",
       "      <td>5</td>\n",
       "      <td>0</td>\n",
       "      <td>0.0</td>\n",
       "    </tr>\n",
       "    <tr>\n",
       "      <th>2</th>\n",
       "      <td>941387308</td>\n",
       "      <td>0</td>\n",
       "      <td>0</td>\n",
       "      <td>0</td>\n",
       "      <td>0</td>\n",
       "      <td>0</td>\n",
       "      <td>0</td>\n",
       "      <td>7.0</td>\n",
       "      <td>0.0</td>\n",
       "      <td>0</td>\n",
       "      <td>0</td>\n",
       "      <td>0</td>\n",
       "      <td>0</td>\n",
       "      <td>0</td>\n",
       "      <td>1.0</td>\n",
       "      <td>3004972.0</td>\n",
       "      <td>2</td>\n",
       "      <td>0</td>\n",
       "      <td>0.0</td>\n",
       "    </tr>\n",
       "    <tr>\n",
       "      <th>3</th>\n",
       "      <td>392161677</td>\n",
       "      <td>0</td>\n",
       "      <td>0</td>\n",
       "      <td>0</td>\n",
       "      <td>0</td>\n",
       "      <td>0</td>\n",
       "      <td>0</td>\n",
       "      <td>11.0</td>\n",
       "      <td>1.0</td>\n",
       "      <td>1</td>\n",
       "      <td>0</td>\n",
       "      <td>0</td>\n",
       "      <td>0</td>\n",
       "      <td>0</td>\n",
       "      <td>1.0</td>\n",
       "      <td>3355373.0</td>\n",
       "      <td>4</td>\n",
       "      <td>1</td>\n",
       "      <td>0.0</td>\n",
       "    </tr>\n",
       "    <tr>\n",
       "      <th>4</th>\n",
       "      <td>182011211</td>\n",
       "      <td>0</td>\n",
       "      <td>0</td>\n",
       "      <td>0</td>\n",
       "      <td>0</td>\n",
       "      <td>0</td>\n",
       "      <td>0</td>\n",
       "      <td>12.0</td>\n",
       "      <td>0.0</td>\n",
       "      <td>1</td>\n",
       "      <td>0</td>\n",
       "      <td>0</td>\n",
       "      <td>0</td>\n",
       "      <td>0</td>\n",
       "      <td>1.0</td>\n",
       "      <td>3014283.0</td>\n",
       "      <td>4</td>\n",
       "      <td>0</td>\n",
       "      <td>0.0</td>\n",
       "    </tr>\n",
       "  </tbody>\n",
       "</table>\n",
       "</div>"
      ],
      "text/plain": [
       "   Application ID  No of times 90 DPD or worse in last 6 months  \\\n",
       "0       954457215                                             0   \n",
       "1       432830445                                             0   \n",
       "2       941387308                                             0   \n",
       "3       392161677                                             0   \n",
       "4       182011211                                             0   \n",
       "\n",
       "   No of times 60 DPD or worse in last 6 months  \\\n",
       "0                                             0   \n",
       "1                                             0   \n",
       "2                                             0   \n",
       "3                                             0   \n",
       "4                                             0   \n",
       "\n",
       "   No of times 30 DPD or worse in last 6 months  \\\n",
       "0                                             0   \n",
       "1                                             0   \n",
       "2                                             0   \n",
       "3                                             0   \n",
       "4                                             0   \n",
       "\n",
       "   No of times 90 DPD or worse in last 12 months  \\\n",
       "0                                              0   \n",
       "1                                              0   \n",
       "2                                              0   \n",
       "3                                              0   \n",
       "4                                              0   \n",
       "\n",
       "   No of times 60 DPD or worse in last 12 months  \\\n",
       "0                                              0   \n",
       "1                                              0   \n",
       "2                                              0   \n",
       "3                                              0   \n",
       "4                                              0   \n",
       "\n",
       "   No of times 30 DPD or worse in last 12 months  \\\n",
       "0                                              0   \n",
       "1                                              0   \n",
       "2                                              0   \n",
       "3                                              0   \n",
       "4                                              0   \n",
       "\n",
       "   Avgas CC Utilization in last 12 months  \\\n",
       "0                                     4.0   \n",
       "1                                     3.0   \n",
       "2                                     7.0   \n",
       "3                                    11.0   \n",
       "4                                    12.0   \n",
       "\n",
       "   No of trades opened in last 6 months  \\\n",
       "0                                   1.0   \n",
       "1                                   1.0   \n",
       "2                                   0.0   \n",
       "3                                   1.0   \n",
       "4                                   0.0   \n",
       "\n",
       "   No of trades opened in last 12 months  \\\n",
       "0                                      2   \n",
       "1                                      2   \n",
       "2                                      0   \n",
       "3                                      1   \n",
       "4                                      1   \n",
       "\n",
       "   No of PL trades opened in last 6 months  \\\n",
       "0                                        0   \n",
       "1                                        0   \n",
       "2                                        0   \n",
       "3                                        0   \n",
       "4                                        0   \n",
       "\n",
       "   No of PL trades opened in last 12 months  \\\n",
       "0                                         0   \n",
       "1                                         0   \n",
       "2                                         0   \n",
       "3                                         0   \n",
       "4                                         0   \n",
       "\n",
       "   No of Inquiries in last 6 months (excluding home & auto loans)  \\\n",
       "0                                                  0                \n",
       "1                                                  0                \n",
       "2                                                  0                \n",
       "3                                                  0                \n",
       "4                                                  0                \n",
       "\n",
       "   No of Inquiries in last 12 months (excluding home & auto loans)  \\\n",
       "0                                                  0                 \n",
       "1                                                  0                 \n",
       "2                                                  0                 \n",
       "3                                                  0                 \n",
       "4                                                  0                 \n",
       "\n",
       "   Presence of open home loan  Outstanding Balance  Total No of Trades  \\\n",
       "0                         1.0            2999395.0                   4   \n",
       "1                         0.0               3078.0                   5   \n",
       "2                         1.0            3004972.0                   2   \n",
       "3                         1.0            3355373.0                   4   \n",
       "4                         1.0            3014283.0                   4   \n",
       "\n",
       "   Presence of open auto loan  Performance Tag  \n",
       "0                           0              0.0  \n",
       "1                           0              0.0  \n",
       "2                           0              0.0  \n",
       "3                           1              0.0  \n",
       "4                           0              0.0  "
      ]
     },
     "execution_count": 7,
     "metadata": {},
     "output_type": "execute_result"
    }
   ],
   "source": [
    "credit_df.head()"
   ]
  },
  {
   "cell_type": "code",
   "execution_count": 8,
   "metadata": {},
   "outputs": [
    {
     "name": "stdout",
     "output_type": "stream",
     "text": [
      "<class 'pandas.core.frame.DataFrame'>\n",
      "RangeIndex: 71295 entries, 0 to 71294\n",
      "Data columns (total 19 columns):\n",
      " #   Column                                                           Non-Null Count  Dtype  \n",
      "---  ------                                                           --------------  -----  \n",
      " 0   Application ID                                                   71295 non-null  int64  \n",
      " 1   No of times 90 DPD or worse in last 6 months                     71295 non-null  int64  \n",
      " 2   No of times 60 DPD or worse in last 6 months                     71295 non-null  int64  \n",
      " 3   No of times 30 DPD or worse in last 6 months                     71295 non-null  int64  \n",
      " 4   No of times 90 DPD or worse in last 12 months                    71295 non-null  int64  \n",
      " 5   No of times 60 DPD or worse in last 12 months                    71295 non-null  int64  \n",
      " 6   No of times 30 DPD or worse in last 12 months                    71295 non-null  int64  \n",
      " 7   Avgas CC Utilization in last 12 months                           70237 non-null  float64\n",
      " 8   No of trades opened in last 6 months                             71294 non-null  float64\n",
      " 9   No of trades opened in last 12 months                            71295 non-null  int64  \n",
      " 10  No of PL trades opened in last 6 months                          71295 non-null  int64  \n",
      " 11  No of PL trades opened in last 12 months                         71295 non-null  int64  \n",
      " 12  No of Inquiries in last 6 months (excluding home & auto loans)   71295 non-null  int64  \n",
      " 13  No of Inquiries in last 12 months (excluding home & auto loans)  71295 non-null  int64  \n",
      " 14  Presence of open home loan                                       71023 non-null  float64\n",
      " 15  Outstanding Balance                                              71023 non-null  float64\n",
      " 16  Total No of Trades                                               71295 non-null  int64  \n",
      " 17  Presence of open auto loan                                       71295 non-null  int64  \n",
      " 18  Performance Tag                                                  69870 non-null  float64\n",
      "dtypes: float64(5), int64(14)\n",
      "memory usage: 10.3 MB\n"
     ]
    }
   ],
   "source": [
    "credit_df.info()"
   ]
  },
  {
   "cell_type": "code",
   "execution_count": 9,
   "metadata": {},
   "outputs": [
    {
     "data": {
      "text/plain": [
       "Application ID                                                        0\n",
       "No of times 90 DPD or worse in last 6 months                          0\n",
       "No of times 60 DPD or worse in last 6 months                          0\n",
       "No of times 30 DPD or worse in last 6 months                          0\n",
       "No of times 90 DPD or worse in last 12 months                         0\n",
       "No of times 60 DPD or worse in last 12 months                         0\n",
       "No of times 30 DPD or worse in last 12 months                         0\n",
       "Avgas CC Utilization in last 12 months                             1058\n",
       "No of trades opened in last 6 months                                  1\n",
       "No of trades opened in last 12 months                                 0\n",
       "No of PL trades opened in last 6 months                               0\n",
       "No of PL trades opened in last 12 months                              0\n",
       "No of Inquiries in last 6 months (excluding home & auto loans)        0\n",
       "No of Inquiries in last 12 months (excluding home & auto loans)       0\n",
       "Presence of open home loan                                          272\n",
       "Outstanding Balance                                                 272\n",
       "Total No of Trades                                                    0\n",
       "Presence of open auto loan                                            0\n",
       "Performance Tag                                                    1425\n",
       "dtype: int64"
      ]
     },
     "execution_count": 9,
     "metadata": {},
     "output_type": "execute_result"
    }
   ],
   "source": [
    "credit_df.isnull().sum()"
   ]
  },
  {
   "cell_type": "code",
   "execution_count": 10,
   "metadata": {},
   "outputs": [],
   "source": [
    "master_df = pd.merge(demo_df, credit_df, on=\"Application ID\", how=\"inner\")"
   ]
  },
  {
   "cell_type": "code",
   "execution_count": 11,
   "metadata": {},
   "outputs": [
    {
     "data": {
      "text/html": [
       "<div>\n",
       "<style scoped>\n",
       "    .dataframe tbody tr th:only-of-type {\n",
       "        vertical-align: middle;\n",
       "    }\n",
       "\n",
       "    .dataframe tbody tr th {\n",
       "        vertical-align: top;\n",
       "    }\n",
       "\n",
       "    .dataframe thead th {\n",
       "        text-align: right;\n",
       "    }\n",
       "</style>\n",
       "<table border=\"1\" class=\"dataframe\">\n",
       "  <thead>\n",
       "    <tr style=\"text-align: right;\">\n",
       "      <th></th>\n",
       "      <th>Application ID</th>\n",
       "      <th>Age</th>\n",
       "      <th>Gender</th>\n",
       "      <th>Marital Status (at the time of application)</th>\n",
       "      <th>No of dependents</th>\n",
       "      <th>Income</th>\n",
       "      <th>Education</th>\n",
       "      <th>Profession</th>\n",
       "      <th>Type of residence</th>\n",
       "      <th>No of months in current residence</th>\n",
       "      <th>...</th>\n",
       "      <th>No of trades opened in last 12 months</th>\n",
       "      <th>No of PL trades opened in last 6 months</th>\n",
       "      <th>No of PL trades opened in last 12 months</th>\n",
       "      <th>No of Inquiries in last 6 months (excluding home &amp; auto loans)</th>\n",
       "      <th>No of Inquiries in last 12 months (excluding home &amp; auto loans)</th>\n",
       "      <th>Presence of open home loan</th>\n",
       "      <th>Outstanding Balance</th>\n",
       "      <th>Total No of Trades</th>\n",
       "      <th>Presence of open auto loan</th>\n",
       "      <th>Performance Tag_y</th>\n",
       "    </tr>\n",
       "  </thead>\n",
       "  <tbody>\n",
       "    <tr>\n",
       "      <th>0</th>\n",
       "      <td>954457215</td>\n",
       "      <td>48</td>\n",
       "      <td>F</td>\n",
       "      <td>Married</td>\n",
       "      <td>2.0</td>\n",
       "      <td>40.0</td>\n",
       "      <td>Bachelor</td>\n",
       "      <td>SAL</td>\n",
       "      <td>Rented</td>\n",
       "      <td>113</td>\n",
       "      <td>...</td>\n",
       "      <td>2</td>\n",
       "      <td>0</td>\n",
       "      <td>0</td>\n",
       "      <td>0</td>\n",
       "      <td>0</td>\n",
       "      <td>1.0</td>\n",
       "      <td>2999395.0</td>\n",
       "      <td>4</td>\n",
       "      <td>0</td>\n",
       "      <td>0.0</td>\n",
       "    </tr>\n",
       "    <tr>\n",
       "      <th>1</th>\n",
       "      <td>432830445</td>\n",
       "      <td>31</td>\n",
       "      <td>M</td>\n",
       "      <td>Married</td>\n",
       "      <td>4.0</td>\n",
       "      <td>55.0</td>\n",
       "      <td>Professional</td>\n",
       "      <td>SE_PROF</td>\n",
       "      <td>Rented</td>\n",
       "      <td>112</td>\n",
       "      <td>...</td>\n",
       "      <td>2</td>\n",
       "      <td>0</td>\n",
       "      <td>0</td>\n",
       "      <td>0</td>\n",
       "      <td>0</td>\n",
       "      <td>0.0</td>\n",
       "      <td>3078.0</td>\n",
       "      <td>5</td>\n",
       "      <td>0</td>\n",
       "      <td>0.0</td>\n",
       "    </tr>\n",
       "    <tr>\n",
       "      <th>2</th>\n",
       "      <td>941387308</td>\n",
       "      <td>32</td>\n",
       "      <td>M</td>\n",
       "      <td>Single</td>\n",
       "      <td>2.0</td>\n",
       "      <td>46.0</td>\n",
       "      <td>Bachelor</td>\n",
       "      <td>SE_PROF</td>\n",
       "      <td>Rented</td>\n",
       "      <td>104</td>\n",
       "      <td>...</td>\n",
       "      <td>0</td>\n",
       "      <td>0</td>\n",
       "      <td>0</td>\n",
       "      <td>0</td>\n",
       "      <td>0</td>\n",
       "      <td>1.0</td>\n",
       "      <td>3004972.0</td>\n",
       "      <td>2</td>\n",
       "      <td>0</td>\n",
       "      <td>0.0</td>\n",
       "    </tr>\n",
       "    <tr>\n",
       "      <th>3</th>\n",
       "      <td>392161677</td>\n",
       "      <td>43</td>\n",
       "      <td>M</td>\n",
       "      <td>Married</td>\n",
       "      <td>1.0</td>\n",
       "      <td>53.0</td>\n",
       "      <td>Bachelor</td>\n",
       "      <td>SE</td>\n",
       "      <td>Rented</td>\n",
       "      <td>94</td>\n",
       "      <td>...</td>\n",
       "      <td>1</td>\n",
       "      <td>0</td>\n",
       "      <td>0</td>\n",
       "      <td>0</td>\n",
       "      <td>0</td>\n",
       "      <td>1.0</td>\n",
       "      <td>3355373.0</td>\n",
       "      <td>4</td>\n",
       "      <td>1</td>\n",
       "      <td>0.0</td>\n",
       "    </tr>\n",
       "    <tr>\n",
       "      <th>4</th>\n",
       "      <td>182011211</td>\n",
       "      <td>35</td>\n",
       "      <td>F</td>\n",
       "      <td>Married</td>\n",
       "      <td>5.0</td>\n",
       "      <td>44.0</td>\n",
       "      <td>Professional</td>\n",
       "      <td>SAL</td>\n",
       "      <td>Rented</td>\n",
       "      <td>112</td>\n",
       "      <td>...</td>\n",
       "      <td>1</td>\n",
       "      <td>0</td>\n",
       "      <td>0</td>\n",
       "      <td>0</td>\n",
       "      <td>0</td>\n",
       "      <td>1.0</td>\n",
       "      <td>3014283.0</td>\n",
       "      <td>4</td>\n",
       "      <td>0</td>\n",
       "      <td>0.0</td>\n",
       "    </tr>\n",
       "  </tbody>\n",
       "</table>\n",
       "<p>5 rows × 30 columns</p>\n",
       "</div>"
      ],
      "text/plain": [
       "   Application ID  Age Gender Marital Status (at the time of application)  \\\n",
       "0       954457215   48      F                                     Married   \n",
       "1       432830445   31      M                                     Married   \n",
       "2       941387308   32      M                                      Single   \n",
       "3       392161677   43      M                                     Married   \n",
       "4       182011211   35      F                                     Married   \n",
       "\n",
       "   No of dependents  Income     Education Profession  Type of residence  \\\n",
       "0               2.0    40.0      Bachelor         SAL            Rented   \n",
       "1               4.0    55.0  Professional     SE_PROF            Rented   \n",
       "2               2.0    46.0      Bachelor     SE_PROF            Rented   \n",
       "3               1.0    53.0      Bachelor          SE            Rented   \n",
       "4               5.0    44.0  Professional         SAL            Rented   \n",
       "\n",
       "   No of months in current residence  ...  \\\n",
       "0                                113  ...   \n",
       "1                                112  ...   \n",
       "2                                104  ...   \n",
       "3                                 94  ...   \n",
       "4                                112  ...   \n",
       "\n",
       "   No of trades opened in last 12 months  \\\n",
       "0                                      2   \n",
       "1                                      2   \n",
       "2                                      0   \n",
       "3                                      1   \n",
       "4                                      1   \n",
       "\n",
       "   No of PL trades opened in last 6 months  \\\n",
       "0                                        0   \n",
       "1                                        0   \n",
       "2                                        0   \n",
       "3                                        0   \n",
       "4                                        0   \n",
       "\n",
       "   No of PL trades opened in last 12 months  \\\n",
       "0                                         0   \n",
       "1                                         0   \n",
       "2                                         0   \n",
       "3                                         0   \n",
       "4                                         0   \n",
       "\n",
       "   No of Inquiries in last 6 months (excluding home & auto loans)  \\\n",
       "0                                                  0                \n",
       "1                                                  0                \n",
       "2                                                  0                \n",
       "3                                                  0                \n",
       "4                                                  0                \n",
       "\n",
       "   No of Inquiries in last 12 months (excluding home & auto loans)  \\\n",
       "0                                                  0                 \n",
       "1                                                  0                 \n",
       "2                                                  0                 \n",
       "3                                                  0                 \n",
       "4                                                  0                 \n",
       "\n",
       "   Presence of open home loan  Outstanding Balance  Total No of Trades  \\\n",
       "0                         1.0            2999395.0                   4   \n",
       "1                         0.0               3078.0                   5   \n",
       "2                         1.0            3004972.0                   2   \n",
       "3                         1.0            3355373.0                   4   \n",
       "4                         1.0            3014283.0                   4   \n",
       "\n",
       "   Presence of open auto loan  Performance Tag_y  \n",
       "0                           0                0.0  \n",
       "1                           0                0.0  \n",
       "2                           0                0.0  \n",
       "3                           1                0.0  \n",
       "4                           0                0.0  \n",
       "\n",
       "[5 rows x 30 columns]"
      ]
     },
     "execution_count": 11,
     "metadata": {},
     "output_type": "execute_result"
    }
   ],
   "source": [
    "master_df.head()"
   ]
  },
  {
   "cell_type": "code",
   "execution_count": 12,
   "metadata": {},
   "outputs": [
    {
     "data": {
      "text/html": [
       "<div>\n",
       "<style scoped>\n",
       "    .dataframe tbody tr th:only-of-type {\n",
       "        vertical-align: middle;\n",
       "    }\n",
       "\n",
       "    .dataframe tbody tr th {\n",
       "        vertical-align: top;\n",
       "    }\n",
       "\n",
       "    .dataframe thead th {\n",
       "        text-align: right;\n",
       "    }\n",
       "</style>\n",
       "<table border=\"1\" class=\"dataframe\">\n",
       "  <thead>\n",
       "    <tr style=\"text-align: right;\">\n",
       "      <th></th>\n",
       "      <th>Application ID</th>\n",
       "      <th>Age</th>\n",
       "      <th>Gender</th>\n",
       "      <th>Marital Status (at the time of application)</th>\n",
       "      <th>No of dependents</th>\n",
       "      <th>Income</th>\n",
       "      <th>Education</th>\n",
       "      <th>Profession</th>\n",
       "      <th>Type of residence</th>\n",
       "      <th>No of months in current residence</th>\n",
       "      <th>...</th>\n",
       "      <th>No of trades opened in last 12 months</th>\n",
       "      <th>No of PL trades opened in last 6 months</th>\n",
       "      <th>No of PL trades opened in last 12 months</th>\n",
       "      <th>No of Inquiries in last 6 months (excluding home &amp; auto loans)</th>\n",
       "      <th>No of Inquiries in last 12 months (excluding home &amp; auto loans)</th>\n",
       "      <th>Presence of open home loan</th>\n",
       "      <th>Outstanding Balance</th>\n",
       "      <th>Total No of Trades</th>\n",
       "      <th>Presence of open auto loan</th>\n",
       "      <th>Performance Tag_y</th>\n",
       "    </tr>\n",
       "  </thead>\n",
       "  <tbody>\n",
       "    <tr>\n",
       "      <th>5244</th>\n",
       "      <td>653287861</td>\n",
       "      <td>26</td>\n",
       "      <td>M</td>\n",
       "      <td>Married</td>\n",
       "      <td>3.0</td>\n",
       "      <td>25.0</td>\n",
       "      <td>Bachelor</td>\n",
       "      <td>SAL</td>\n",
       "      <td>Rented</td>\n",
       "      <td>112</td>\n",
       "      <td>...</td>\n",
       "      <td>5</td>\n",
       "      <td>1</td>\n",
       "      <td>3</td>\n",
       "      <td>1</td>\n",
       "      <td>3</td>\n",
       "      <td>0.0</td>\n",
       "      <td>628075.0</td>\n",
       "      <td>6</td>\n",
       "      <td>0</td>\n",
       "      <td>1.0</td>\n",
       "    </tr>\n",
       "    <tr>\n",
       "      <th>5245</th>\n",
       "      <td>653287861</td>\n",
       "      <td>40</td>\n",
       "      <td>M</td>\n",
       "      <td>Married</td>\n",
       "      <td>5.0</td>\n",
       "      <td>32.0</td>\n",
       "      <td>Phd</td>\n",
       "      <td>SE</td>\n",
       "      <td>Rented</td>\n",
       "      <td>45</td>\n",
       "      <td>...</td>\n",
       "      <td>0</td>\n",
       "      <td>0</td>\n",
       "      <td>0</td>\n",
       "      <td>0</td>\n",
       "      <td>0</td>\n",
       "      <td>0.0</td>\n",
       "      <td>10494.0</td>\n",
       "      <td>2</td>\n",
       "      <td>0</td>\n",
       "      <td>0.0</td>\n",
       "    </tr>\n",
       "    <tr>\n",
       "      <th>5246</th>\n",
       "      <td>653287861</td>\n",
       "      <td>40</td>\n",
       "      <td>M</td>\n",
       "      <td>Married</td>\n",
       "      <td>5.0</td>\n",
       "      <td>32.0</td>\n",
       "      <td>Phd</td>\n",
       "      <td>SE</td>\n",
       "      <td>Rented</td>\n",
       "      <td>45</td>\n",
       "      <td>...</td>\n",
       "      <td>5</td>\n",
       "      <td>1</td>\n",
       "      <td>3</td>\n",
       "      <td>1</td>\n",
       "      <td>3</td>\n",
       "      <td>0.0</td>\n",
       "      <td>628075.0</td>\n",
       "      <td>6</td>\n",
       "      <td>0</td>\n",
       "      <td>1.0</td>\n",
       "    </tr>\n",
       "    <tr>\n",
       "      <th>24390</th>\n",
       "      <td>765011468</td>\n",
       "      <td>57</td>\n",
       "      <td>M</td>\n",
       "      <td>Single</td>\n",
       "      <td>4.0</td>\n",
       "      <td>4.5</td>\n",
       "      <td>Bachelor</td>\n",
       "      <td>SAL</td>\n",
       "      <td>Company provided</td>\n",
       "      <td>6</td>\n",
       "      <td>...</td>\n",
       "      <td>3</td>\n",
       "      <td>0</td>\n",
       "      <td>0</td>\n",
       "      <td>1</td>\n",
       "      <td>3</td>\n",
       "      <td>0.0</td>\n",
       "      <td>29817.0</td>\n",
       "      <td>6</td>\n",
       "      <td>0</td>\n",
       "      <td>0.0</td>\n",
       "    </tr>\n",
       "    <tr>\n",
       "      <th>24391</th>\n",
       "      <td>765011468</td>\n",
       "      <td>38</td>\n",
       "      <td>M</td>\n",
       "      <td>Married</td>\n",
       "      <td>4.0</td>\n",
       "      <td>4.5</td>\n",
       "      <td>Professional</td>\n",
       "      <td>SAL</td>\n",
       "      <td>Rented</td>\n",
       "      <td>6</td>\n",
       "      <td>...</td>\n",
       "      <td>2</td>\n",
       "      <td>0</td>\n",
       "      <td>1</td>\n",
       "      <td>2</td>\n",
       "      <td>2</td>\n",
       "      <td>0.0</td>\n",
       "      <td>212656.0</td>\n",
       "      <td>3</td>\n",
       "      <td>0</td>\n",
       "      <td>0.0</td>\n",
       "    </tr>\n",
       "    <tr>\n",
       "      <th>24392</th>\n",
       "      <td>765011468</td>\n",
       "      <td>38</td>\n",
       "      <td>M</td>\n",
       "      <td>Married</td>\n",
       "      <td>4.0</td>\n",
       "      <td>4.5</td>\n",
       "      <td>Professional</td>\n",
       "      <td>SAL</td>\n",
       "      <td>Rented</td>\n",
       "      <td>6</td>\n",
       "      <td>...</td>\n",
       "      <td>3</td>\n",
       "      <td>0</td>\n",
       "      <td>0</td>\n",
       "      <td>1</td>\n",
       "      <td>3</td>\n",
       "      <td>0.0</td>\n",
       "      <td>29817.0</td>\n",
       "      <td>6</td>\n",
       "      <td>0</td>\n",
       "      <td>0.0</td>\n",
       "    </tr>\n",
       "    <tr>\n",
       "      <th>48607</th>\n",
       "      <td>671989187</td>\n",
       "      <td>27</td>\n",
       "      <td>M</td>\n",
       "      <td>Married</td>\n",
       "      <td>2.0</td>\n",
       "      <td>35.0</td>\n",
       "      <td>Professional</td>\n",
       "      <td>SAL</td>\n",
       "      <td>Living with Parents</td>\n",
       "      <td>108</td>\n",
       "      <td>...</td>\n",
       "      <td>7</td>\n",
       "      <td>1</td>\n",
       "      <td>4</td>\n",
       "      <td>2</td>\n",
       "      <td>6</td>\n",
       "      <td>0.0</td>\n",
       "      <td>822298.0</td>\n",
       "      <td>7</td>\n",
       "      <td>0</td>\n",
       "      <td>0.0</td>\n",
       "    </tr>\n",
       "    <tr>\n",
       "      <th>48608</th>\n",
       "      <td>671989187</td>\n",
       "      <td>57</td>\n",
       "      <td>M</td>\n",
       "      <td>Married</td>\n",
       "      <td>4.0</td>\n",
       "      <td>7.0</td>\n",
       "      <td>Professional</td>\n",
       "      <td>SE</td>\n",
       "      <td>Rented</td>\n",
       "      <td>42</td>\n",
       "      <td>...</td>\n",
       "      <td>6</td>\n",
       "      <td>1</td>\n",
       "      <td>4</td>\n",
       "      <td>3</td>\n",
       "      <td>5</td>\n",
       "      <td>0.0</td>\n",
       "      <td>806473.0</td>\n",
       "      <td>7</td>\n",
       "      <td>1</td>\n",
       "      <td>0.0</td>\n",
       "    </tr>\n",
       "    <tr>\n",
       "      <th>48609</th>\n",
       "      <td>671989187</td>\n",
       "      <td>57</td>\n",
       "      <td>M</td>\n",
       "      <td>Married</td>\n",
       "      <td>4.0</td>\n",
       "      <td>7.0</td>\n",
       "      <td>Professional</td>\n",
       "      <td>SE</td>\n",
       "      <td>Rented</td>\n",
       "      <td>42</td>\n",
       "      <td>...</td>\n",
       "      <td>7</td>\n",
       "      <td>1</td>\n",
       "      <td>4</td>\n",
       "      <td>2</td>\n",
       "      <td>6</td>\n",
       "      <td>0.0</td>\n",
       "      <td>822298.0</td>\n",
       "      <td>7</td>\n",
       "      <td>0</td>\n",
       "      <td>0.0</td>\n",
       "    </tr>\n",
       "  </tbody>\n",
       "</table>\n",
       "<p>9 rows × 30 columns</p>\n",
       "</div>"
      ],
      "text/plain": [
       "       Application ID  Age Gender Marital Status (at the time of application)  \\\n",
       "5244        653287861   26      M                                     Married   \n",
       "5245        653287861   40      M                                     Married   \n",
       "5246        653287861   40      M                                     Married   \n",
       "24390       765011468   57      M                                      Single   \n",
       "24391       765011468   38      M                                     Married   \n",
       "24392       765011468   38      M                                     Married   \n",
       "48607       671989187   27      M                                     Married   \n",
       "48608       671989187   57      M                                     Married   \n",
       "48609       671989187   57      M                                     Married   \n",
       "\n",
       "       No of dependents  Income     Education Profession   \\\n",
       "5244                3.0    25.0      Bachelor         SAL   \n",
       "5245                5.0    32.0           Phd          SE   \n",
       "5246                5.0    32.0           Phd          SE   \n",
       "24390               4.0     4.5      Bachelor         SAL   \n",
       "24391               4.0     4.5  Professional         SAL   \n",
       "24392               4.0     4.5  Professional         SAL   \n",
       "48607               2.0    35.0  Professional         SAL   \n",
       "48608               4.0     7.0  Professional          SE   \n",
       "48609               4.0     7.0  Professional          SE   \n",
       "\n",
       "         Type of residence  No of months in current residence  ...  \\\n",
       "5244                Rented                                112  ...   \n",
       "5245                Rented                                 45  ...   \n",
       "5246                Rented                                 45  ...   \n",
       "24390     Company provided                                  6  ...   \n",
       "24391               Rented                                  6  ...   \n",
       "24392               Rented                                  6  ...   \n",
       "48607  Living with Parents                                108  ...   \n",
       "48608               Rented                                 42  ...   \n",
       "48609               Rented                                 42  ...   \n",
       "\n",
       "       No of trades opened in last 12 months  \\\n",
       "5244                                       5   \n",
       "5245                                       0   \n",
       "5246                                       5   \n",
       "24390                                      3   \n",
       "24391                                      2   \n",
       "24392                                      3   \n",
       "48607                                      7   \n",
       "48608                                      6   \n",
       "48609                                      7   \n",
       "\n",
       "       No of PL trades opened in last 6 months  \\\n",
       "5244                                         1   \n",
       "5245                                         0   \n",
       "5246                                         1   \n",
       "24390                                        0   \n",
       "24391                                        0   \n",
       "24392                                        0   \n",
       "48607                                        1   \n",
       "48608                                        1   \n",
       "48609                                        1   \n",
       "\n",
       "       No of PL trades opened in last 12 months  \\\n",
       "5244                                          3   \n",
       "5245                                          0   \n",
       "5246                                          3   \n",
       "24390                                         0   \n",
       "24391                                         1   \n",
       "24392                                         0   \n",
       "48607                                         4   \n",
       "48608                                         4   \n",
       "48609                                         4   \n",
       "\n",
       "       No of Inquiries in last 6 months (excluding home & auto loans)  \\\n",
       "5244                                                   1                \n",
       "5245                                                   0                \n",
       "5246                                                   1                \n",
       "24390                                                  1                \n",
       "24391                                                  2                \n",
       "24392                                                  1                \n",
       "48607                                                  2                \n",
       "48608                                                  3                \n",
       "48609                                                  2                \n",
       "\n",
       "       No of Inquiries in last 12 months (excluding home & auto loans)  \\\n",
       "5244                                                   3                 \n",
       "5245                                                   0                 \n",
       "5246                                                   3                 \n",
       "24390                                                  3                 \n",
       "24391                                                  2                 \n",
       "24392                                                  3                 \n",
       "48607                                                  6                 \n",
       "48608                                                  5                 \n",
       "48609                                                  6                 \n",
       "\n",
       "       Presence of open home loan  Outstanding Balance  Total No of Trades  \\\n",
       "5244                          0.0             628075.0                   6   \n",
       "5245                          0.0              10494.0                   2   \n",
       "5246                          0.0             628075.0                   6   \n",
       "24390                         0.0              29817.0                   6   \n",
       "24391                         0.0             212656.0                   3   \n",
       "24392                         0.0              29817.0                   6   \n",
       "48607                         0.0             822298.0                   7   \n",
       "48608                         0.0             806473.0                   7   \n",
       "48609                         0.0             822298.0                   7   \n",
       "\n",
       "       Presence of open auto loan  Performance Tag_y  \n",
       "5244                            0                1.0  \n",
       "5245                            0                0.0  \n",
       "5246                            0                1.0  \n",
       "24390                           0                0.0  \n",
       "24391                           0                0.0  \n",
       "24392                           0                0.0  \n",
       "48607                           0                0.0  \n",
       "48608                           1                0.0  \n",
       "48609                           0                0.0  \n",
       "\n",
       "[9 rows x 30 columns]"
      ]
     },
     "execution_count": 12,
     "metadata": {},
     "output_type": "execute_result"
    }
   ],
   "source": [
    "master_df[master_df['Application ID'].duplicated()]"
   ]
  },
  {
   "cell_type": "code",
   "execution_count": 13,
   "metadata": {},
   "outputs": [],
   "source": [
    "master_df = master_df[master_df['Application ID'].isin(master_df['Application ID'].drop_duplicates())]"
   ]
  },
  {
   "cell_type": "code",
   "execution_count": 14,
   "metadata": {},
   "outputs": [
    {
     "data": {
      "text/html": [
       "<div>\n",
       "<style scoped>\n",
       "    .dataframe tbody tr th:only-of-type {\n",
       "        vertical-align: middle;\n",
       "    }\n",
       "\n",
       "    .dataframe tbody tr th {\n",
       "        vertical-align: top;\n",
       "    }\n",
       "\n",
       "    .dataframe thead th {\n",
       "        text-align: right;\n",
       "    }\n",
       "</style>\n",
       "<table border=\"1\" class=\"dataframe\">\n",
       "  <thead>\n",
       "    <tr style=\"text-align: right;\">\n",
       "      <th></th>\n",
       "      <th>Application ID</th>\n",
       "      <th>Age</th>\n",
       "      <th>Gender</th>\n",
       "      <th>Marital Status (at the time of application)</th>\n",
       "      <th>No of dependents</th>\n",
       "      <th>Income</th>\n",
       "      <th>Education</th>\n",
       "      <th>Profession</th>\n",
       "      <th>Type of residence</th>\n",
       "      <th>No of months in current residence</th>\n",
       "      <th>...</th>\n",
       "      <th>No of trades opened in last 12 months</th>\n",
       "      <th>No of PL trades opened in last 6 months</th>\n",
       "      <th>No of PL trades opened in last 12 months</th>\n",
       "      <th>No of Inquiries in last 6 months (excluding home &amp; auto loans)</th>\n",
       "      <th>No of Inquiries in last 12 months (excluding home &amp; auto loans)</th>\n",
       "      <th>Presence of open home loan</th>\n",
       "      <th>Outstanding Balance</th>\n",
       "      <th>Total No of Trades</th>\n",
       "      <th>Presence of open auto loan</th>\n",
       "      <th>Performance Tag_y</th>\n",
       "    </tr>\n",
       "  </thead>\n",
       "  <tbody>\n",
       "    <tr>\n",
       "      <th>0</th>\n",
       "      <td>954457215</td>\n",
       "      <td>48</td>\n",
       "      <td>F</td>\n",
       "      <td>Married</td>\n",
       "      <td>2.0</td>\n",
       "      <td>40.0</td>\n",
       "      <td>Bachelor</td>\n",
       "      <td>SAL</td>\n",
       "      <td>Rented</td>\n",
       "      <td>113</td>\n",
       "      <td>...</td>\n",
       "      <td>2</td>\n",
       "      <td>0</td>\n",
       "      <td>0</td>\n",
       "      <td>0</td>\n",
       "      <td>0</td>\n",
       "      <td>1.0</td>\n",
       "      <td>2999395.0</td>\n",
       "      <td>4</td>\n",
       "      <td>0</td>\n",
       "      <td>0.0</td>\n",
       "    </tr>\n",
       "    <tr>\n",
       "      <th>1</th>\n",
       "      <td>432830445</td>\n",
       "      <td>31</td>\n",
       "      <td>M</td>\n",
       "      <td>Married</td>\n",
       "      <td>4.0</td>\n",
       "      <td>55.0</td>\n",
       "      <td>Professional</td>\n",
       "      <td>SE_PROF</td>\n",
       "      <td>Rented</td>\n",
       "      <td>112</td>\n",
       "      <td>...</td>\n",
       "      <td>2</td>\n",
       "      <td>0</td>\n",
       "      <td>0</td>\n",
       "      <td>0</td>\n",
       "      <td>0</td>\n",
       "      <td>0.0</td>\n",
       "      <td>3078.0</td>\n",
       "      <td>5</td>\n",
       "      <td>0</td>\n",
       "      <td>0.0</td>\n",
       "    </tr>\n",
       "    <tr>\n",
       "      <th>2</th>\n",
       "      <td>941387308</td>\n",
       "      <td>32</td>\n",
       "      <td>M</td>\n",
       "      <td>Single</td>\n",
       "      <td>2.0</td>\n",
       "      <td>46.0</td>\n",
       "      <td>Bachelor</td>\n",
       "      <td>SE_PROF</td>\n",
       "      <td>Rented</td>\n",
       "      <td>104</td>\n",
       "      <td>...</td>\n",
       "      <td>0</td>\n",
       "      <td>0</td>\n",
       "      <td>0</td>\n",
       "      <td>0</td>\n",
       "      <td>0</td>\n",
       "      <td>1.0</td>\n",
       "      <td>3004972.0</td>\n",
       "      <td>2</td>\n",
       "      <td>0</td>\n",
       "      <td>0.0</td>\n",
       "    </tr>\n",
       "    <tr>\n",
       "      <th>3</th>\n",
       "      <td>392161677</td>\n",
       "      <td>43</td>\n",
       "      <td>M</td>\n",
       "      <td>Married</td>\n",
       "      <td>1.0</td>\n",
       "      <td>53.0</td>\n",
       "      <td>Bachelor</td>\n",
       "      <td>SE</td>\n",
       "      <td>Rented</td>\n",
       "      <td>94</td>\n",
       "      <td>...</td>\n",
       "      <td>1</td>\n",
       "      <td>0</td>\n",
       "      <td>0</td>\n",
       "      <td>0</td>\n",
       "      <td>0</td>\n",
       "      <td>1.0</td>\n",
       "      <td>3355373.0</td>\n",
       "      <td>4</td>\n",
       "      <td>1</td>\n",
       "      <td>0.0</td>\n",
       "    </tr>\n",
       "    <tr>\n",
       "      <th>4</th>\n",
       "      <td>182011211</td>\n",
       "      <td>35</td>\n",
       "      <td>F</td>\n",
       "      <td>Married</td>\n",
       "      <td>5.0</td>\n",
       "      <td>44.0</td>\n",
       "      <td>Professional</td>\n",
       "      <td>SAL</td>\n",
       "      <td>Rented</td>\n",
       "      <td>112</td>\n",
       "      <td>...</td>\n",
       "      <td>1</td>\n",
       "      <td>0</td>\n",
       "      <td>0</td>\n",
       "      <td>0</td>\n",
       "      <td>0</td>\n",
       "      <td>1.0</td>\n",
       "      <td>3014283.0</td>\n",
       "      <td>4</td>\n",
       "      <td>0</td>\n",
       "      <td>0.0</td>\n",
       "    </tr>\n",
       "  </tbody>\n",
       "</table>\n",
       "<p>5 rows × 30 columns</p>\n",
       "</div>"
      ],
      "text/plain": [
       "   Application ID  Age Gender Marital Status (at the time of application)  \\\n",
       "0       954457215   48      F                                     Married   \n",
       "1       432830445   31      M                                     Married   \n",
       "2       941387308   32      M                                      Single   \n",
       "3       392161677   43      M                                     Married   \n",
       "4       182011211   35      F                                     Married   \n",
       "\n",
       "   No of dependents  Income     Education Profession  Type of residence  \\\n",
       "0               2.0    40.0      Bachelor         SAL            Rented   \n",
       "1               4.0    55.0  Professional     SE_PROF            Rented   \n",
       "2               2.0    46.0      Bachelor     SE_PROF            Rented   \n",
       "3               1.0    53.0      Bachelor          SE            Rented   \n",
       "4               5.0    44.0  Professional         SAL            Rented   \n",
       "\n",
       "   No of months in current residence  ...  \\\n",
       "0                                113  ...   \n",
       "1                                112  ...   \n",
       "2                                104  ...   \n",
       "3                                 94  ...   \n",
       "4                                112  ...   \n",
       "\n",
       "   No of trades opened in last 12 months  \\\n",
       "0                                      2   \n",
       "1                                      2   \n",
       "2                                      0   \n",
       "3                                      1   \n",
       "4                                      1   \n",
       "\n",
       "   No of PL trades opened in last 6 months  \\\n",
       "0                                        0   \n",
       "1                                        0   \n",
       "2                                        0   \n",
       "3                                        0   \n",
       "4                                        0   \n",
       "\n",
       "   No of PL trades opened in last 12 months  \\\n",
       "0                                         0   \n",
       "1                                         0   \n",
       "2                                         0   \n",
       "3                                         0   \n",
       "4                                         0   \n",
       "\n",
       "   No of Inquiries in last 6 months (excluding home & auto loans)  \\\n",
       "0                                                  0                \n",
       "1                                                  0                \n",
       "2                                                  0                \n",
       "3                                                  0                \n",
       "4                                                  0                \n",
       "\n",
       "   No of Inquiries in last 12 months (excluding home & auto loans)  \\\n",
       "0                                                  0                 \n",
       "1                                                  0                 \n",
       "2                                                  0                 \n",
       "3                                                  0                 \n",
       "4                                                  0                 \n",
       "\n",
       "   Presence of open home loan  Outstanding Balance  Total No of Trades  \\\n",
       "0                         1.0            2999395.0                   4   \n",
       "1                         0.0               3078.0                   5   \n",
       "2                         1.0            3004972.0                   2   \n",
       "3                         1.0            3355373.0                   4   \n",
       "4                         1.0            3014283.0                   4   \n",
       "\n",
       "   Presence of open auto loan  Performance Tag_y  \n",
       "0                           0                0.0  \n",
       "1                           0                0.0  \n",
       "2                           0                0.0  \n",
       "3                           1                0.0  \n",
       "4                           0                0.0  \n",
       "\n",
       "[5 rows x 30 columns]"
      ]
     },
     "execution_count": 14,
     "metadata": {},
     "output_type": "execute_result"
    }
   ],
   "source": [
    "master_df.head()"
   ]
  },
  {
   "cell_type": "code",
   "execution_count": 15,
   "metadata": {},
   "outputs": [
    {
     "data": {
      "text/html": [
       "<div>\n",
       "<style scoped>\n",
       "    .dataframe tbody tr th:only-of-type {\n",
       "        vertical-align: middle;\n",
       "    }\n",
       "\n",
       "    .dataframe tbody tr th {\n",
       "        vertical-align: top;\n",
       "    }\n",
       "\n",
       "    .dataframe thead th {\n",
       "        text-align: right;\n",
       "    }\n",
       "</style>\n",
       "<table border=\"1\" class=\"dataframe\">\n",
       "  <thead>\n",
       "    <tr style=\"text-align: right;\">\n",
       "      <th></th>\n",
       "      <th>Application ID</th>\n",
       "      <th>Age</th>\n",
       "      <th>Gender</th>\n",
       "      <th>Marital Status (at the time of application)</th>\n",
       "      <th>No of dependents</th>\n",
       "      <th>Income</th>\n",
       "      <th>Education</th>\n",
       "      <th>Profession</th>\n",
       "      <th>Type of residence</th>\n",
       "      <th>No of months in current residence</th>\n",
       "      <th>...</th>\n",
       "      <th>No of trades opened in last 12 months</th>\n",
       "      <th>No of PL trades opened in last 6 months</th>\n",
       "      <th>No of PL trades opened in last 12 months</th>\n",
       "      <th>No of Inquiries in last 6 months (excluding home &amp; auto loans)</th>\n",
       "      <th>No of Inquiries in last 12 months (excluding home &amp; auto loans)</th>\n",
       "      <th>Presence of open home loan</th>\n",
       "      <th>Outstanding Balance</th>\n",
       "      <th>Total No of Trades</th>\n",
       "      <th>Presence of open auto loan</th>\n",
       "      <th>Performance Tag_y</th>\n",
       "    </tr>\n",
       "  </thead>\n",
       "  <tbody>\n",
       "    <tr>\n",
       "      <th>5243</th>\n",
       "      <td>653287861</td>\n",
       "      <td>26</td>\n",
       "      <td>M</td>\n",
       "      <td>Married</td>\n",
       "      <td>3.0</td>\n",
       "      <td>25.0</td>\n",
       "      <td>Bachelor</td>\n",
       "      <td>SAL</td>\n",
       "      <td>Rented</td>\n",
       "      <td>112</td>\n",
       "      <td>...</td>\n",
       "      <td>0</td>\n",
       "      <td>0</td>\n",
       "      <td>0</td>\n",
       "      <td>0</td>\n",
       "      <td>0</td>\n",
       "      <td>0.0</td>\n",
       "      <td>10494.0</td>\n",
       "      <td>2</td>\n",
       "      <td>0</td>\n",
       "      <td>0.0</td>\n",
       "    </tr>\n",
       "    <tr>\n",
       "      <th>5244</th>\n",
       "      <td>653287861</td>\n",
       "      <td>26</td>\n",
       "      <td>M</td>\n",
       "      <td>Married</td>\n",
       "      <td>3.0</td>\n",
       "      <td>25.0</td>\n",
       "      <td>Bachelor</td>\n",
       "      <td>SAL</td>\n",
       "      <td>Rented</td>\n",
       "      <td>112</td>\n",
       "      <td>...</td>\n",
       "      <td>5</td>\n",
       "      <td>1</td>\n",
       "      <td>3</td>\n",
       "      <td>1</td>\n",
       "      <td>3</td>\n",
       "      <td>0.0</td>\n",
       "      <td>628075.0</td>\n",
       "      <td>6</td>\n",
       "      <td>0</td>\n",
       "      <td>1.0</td>\n",
       "    </tr>\n",
       "    <tr>\n",
       "      <th>5245</th>\n",
       "      <td>653287861</td>\n",
       "      <td>40</td>\n",
       "      <td>M</td>\n",
       "      <td>Married</td>\n",
       "      <td>5.0</td>\n",
       "      <td>32.0</td>\n",
       "      <td>Phd</td>\n",
       "      <td>SE</td>\n",
       "      <td>Rented</td>\n",
       "      <td>45</td>\n",
       "      <td>...</td>\n",
       "      <td>0</td>\n",
       "      <td>0</td>\n",
       "      <td>0</td>\n",
       "      <td>0</td>\n",
       "      <td>0</td>\n",
       "      <td>0.0</td>\n",
       "      <td>10494.0</td>\n",
       "      <td>2</td>\n",
       "      <td>0</td>\n",
       "      <td>0.0</td>\n",
       "    </tr>\n",
       "    <tr>\n",
       "      <th>5246</th>\n",
       "      <td>653287861</td>\n",
       "      <td>40</td>\n",
       "      <td>M</td>\n",
       "      <td>Married</td>\n",
       "      <td>5.0</td>\n",
       "      <td>32.0</td>\n",
       "      <td>Phd</td>\n",
       "      <td>SE</td>\n",
       "      <td>Rented</td>\n",
       "      <td>45</td>\n",
       "      <td>...</td>\n",
       "      <td>5</td>\n",
       "      <td>1</td>\n",
       "      <td>3</td>\n",
       "      <td>1</td>\n",
       "      <td>3</td>\n",
       "      <td>0.0</td>\n",
       "      <td>628075.0</td>\n",
       "      <td>6</td>\n",
       "      <td>0</td>\n",
       "      <td>1.0</td>\n",
       "    </tr>\n",
       "    <tr>\n",
       "      <th>24389</th>\n",
       "      <td>765011468</td>\n",
       "      <td>57</td>\n",
       "      <td>M</td>\n",
       "      <td>Single</td>\n",
       "      <td>4.0</td>\n",
       "      <td>4.5</td>\n",
       "      <td>Bachelor</td>\n",
       "      <td>SAL</td>\n",
       "      <td>Company provided</td>\n",
       "      <td>6</td>\n",
       "      <td>...</td>\n",
       "      <td>2</td>\n",
       "      <td>0</td>\n",
       "      <td>1</td>\n",
       "      <td>2</td>\n",
       "      <td>2</td>\n",
       "      <td>0.0</td>\n",
       "      <td>212656.0</td>\n",
       "      <td>3</td>\n",
       "      <td>0</td>\n",
       "      <td>0.0</td>\n",
       "    </tr>\n",
       "    <tr>\n",
       "      <th>24390</th>\n",
       "      <td>765011468</td>\n",
       "      <td>57</td>\n",
       "      <td>M</td>\n",
       "      <td>Single</td>\n",
       "      <td>4.0</td>\n",
       "      <td>4.5</td>\n",
       "      <td>Bachelor</td>\n",
       "      <td>SAL</td>\n",
       "      <td>Company provided</td>\n",
       "      <td>6</td>\n",
       "      <td>...</td>\n",
       "      <td>3</td>\n",
       "      <td>0</td>\n",
       "      <td>0</td>\n",
       "      <td>1</td>\n",
       "      <td>3</td>\n",
       "      <td>0.0</td>\n",
       "      <td>29817.0</td>\n",
       "      <td>6</td>\n",
       "      <td>0</td>\n",
       "      <td>0.0</td>\n",
       "    </tr>\n",
       "    <tr>\n",
       "      <th>24391</th>\n",
       "      <td>765011468</td>\n",
       "      <td>38</td>\n",
       "      <td>M</td>\n",
       "      <td>Married</td>\n",
       "      <td>4.0</td>\n",
       "      <td>4.5</td>\n",
       "      <td>Professional</td>\n",
       "      <td>SAL</td>\n",
       "      <td>Rented</td>\n",
       "      <td>6</td>\n",
       "      <td>...</td>\n",
       "      <td>2</td>\n",
       "      <td>0</td>\n",
       "      <td>1</td>\n",
       "      <td>2</td>\n",
       "      <td>2</td>\n",
       "      <td>0.0</td>\n",
       "      <td>212656.0</td>\n",
       "      <td>3</td>\n",
       "      <td>0</td>\n",
       "      <td>0.0</td>\n",
       "    </tr>\n",
       "    <tr>\n",
       "      <th>24392</th>\n",
       "      <td>765011468</td>\n",
       "      <td>38</td>\n",
       "      <td>M</td>\n",
       "      <td>Married</td>\n",
       "      <td>4.0</td>\n",
       "      <td>4.5</td>\n",
       "      <td>Professional</td>\n",
       "      <td>SAL</td>\n",
       "      <td>Rented</td>\n",
       "      <td>6</td>\n",
       "      <td>...</td>\n",
       "      <td>3</td>\n",
       "      <td>0</td>\n",
       "      <td>0</td>\n",
       "      <td>1</td>\n",
       "      <td>3</td>\n",
       "      <td>0.0</td>\n",
       "      <td>29817.0</td>\n",
       "      <td>6</td>\n",
       "      <td>0</td>\n",
       "      <td>0.0</td>\n",
       "    </tr>\n",
       "    <tr>\n",
       "      <th>48606</th>\n",
       "      <td>671989187</td>\n",
       "      <td>27</td>\n",
       "      <td>M</td>\n",
       "      <td>Married</td>\n",
       "      <td>2.0</td>\n",
       "      <td>35.0</td>\n",
       "      <td>Professional</td>\n",
       "      <td>SAL</td>\n",
       "      <td>Living with Parents</td>\n",
       "      <td>108</td>\n",
       "      <td>...</td>\n",
       "      <td>6</td>\n",
       "      <td>1</td>\n",
       "      <td>4</td>\n",
       "      <td>3</td>\n",
       "      <td>5</td>\n",
       "      <td>0.0</td>\n",
       "      <td>806473.0</td>\n",
       "      <td>7</td>\n",
       "      <td>1</td>\n",
       "      <td>0.0</td>\n",
       "    </tr>\n",
       "    <tr>\n",
       "      <th>48607</th>\n",
       "      <td>671989187</td>\n",
       "      <td>27</td>\n",
       "      <td>M</td>\n",
       "      <td>Married</td>\n",
       "      <td>2.0</td>\n",
       "      <td>35.0</td>\n",
       "      <td>Professional</td>\n",
       "      <td>SAL</td>\n",
       "      <td>Living with Parents</td>\n",
       "      <td>108</td>\n",
       "      <td>...</td>\n",
       "      <td>7</td>\n",
       "      <td>1</td>\n",
       "      <td>4</td>\n",
       "      <td>2</td>\n",
       "      <td>6</td>\n",
       "      <td>0.0</td>\n",
       "      <td>822298.0</td>\n",
       "      <td>7</td>\n",
       "      <td>0</td>\n",
       "      <td>0.0</td>\n",
       "    </tr>\n",
       "    <tr>\n",
       "      <th>48608</th>\n",
       "      <td>671989187</td>\n",
       "      <td>57</td>\n",
       "      <td>M</td>\n",
       "      <td>Married</td>\n",
       "      <td>4.0</td>\n",
       "      <td>7.0</td>\n",
       "      <td>Professional</td>\n",
       "      <td>SE</td>\n",
       "      <td>Rented</td>\n",
       "      <td>42</td>\n",
       "      <td>...</td>\n",
       "      <td>6</td>\n",
       "      <td>1</td>\n",
       "      <td>4</td>\n",
       "      <td>3</td>\n",
       "      <td>5</td>\n",
       "      <td>0.0</td>\n",
       "      <td>806473.0</td>\n",
       "      <td>7</td>\n",
       "      <td>1</td>\n",
       "      <td>0.0</td>\n",
       "    </tr>\n",
       "    <tr>\n",
       "      <th>48609</th>\n",
       "      <td>671989187</td>\n",
       "      <td>57</td>\n",
       "      <td>M</td>\n",
       "      <td>Married</td>\n",
       "      <td>4.0</td>\n",
       "      <td>7.0</td>\n",
       "      <td>Professional</td>\n",
       "      <td>SE</td>\n",
       "      <td>Rented</td>\n",
       "      <td>42</td>\n",
       "      <td>...</td>\n",
       "      <td>7</td>\n",
       "      <td>1</td>\n",
       "      <td>4</td>\n",
       "      <td>2</td>\n",
       "      <td>6</td>\n",
       "      <td>0.0</td>\n",
       "      <td>822298.0</td>\n",
       "      <td>7</td>\n",
       "      <td>0</td>\n",
       "      <td>0.0</td>\n",
       "    </tr>\n",
       "  </tbody>\n",
       "</table>\n",
       "<p>12 rows × 30 columns</p>\n",
       "</div>"
      ],
      "text/plain": [
       "       Application ID  Age Gender Marital Status (at the time of application)  \\\n",
       "5243        653287861   26      M                                     Married   \n",
       "5244        653287861   26      M                                     Married   \n",
       "5245        653287861   40      M                                     Married   \n",
       "5246        653287861   40      M                                     Married   \n",
       "24389       765011468   57      M                                      Single   \n",
       "24390       765011468   57      M                                      Single   \n",
       "24391       765011468   38      M                                     Married   \n",
       "24392       765011468   38      M                                     Married   \n",
       "48606       671989187   27      M                                     Married   \n",
       "48607       671989187   27      M                                     Married   \n",
       "48608       671989187   57      M                                     Married   \n",
       "48609       671989187   57      M                                     Married   \n",
       "\n",
       "       No of dependents  Income     Education Profession   \\\n",
       "5243                3.0    25.0      Bachelor         SAL   \n",
       "5244                3.0    25.0      Bachelor         SAL   \n",
       "5245                5.0    32.0           Phd          SE   \n",
       "5246                5.0    32.0           Phd          SE   \n",
       "24389               4.0     4.5      Bachelor         SAL   \n",
       "24390               4.0     4.5      Bachelor         SAL   \n",
       "24391               4.0     4.5  Professional         SAL   \n",
       "24392               4.0     4.5  Professional         SAL   \n",
       "48606               2.0    35.0  Professional         SAL   \n",
       "48607               2.0    35.0  Professional         SAL   \n",
       "48608               4.0     7.0  Professional          SE   \n",
       "48609               4.0     7.0  Professional          SE   \n",
       "\n",
       "         Type of residence  No of months in current residence  ...  \\\n",
       "5243                Rented                                112  ...   \n",
       "5244                Rented                                112  ...   \n",
       "5245                Rented                                 45  ...   \n",
       "5246                Rented                                 45  ...   \n",
       "24389     Company provided                                  6  ...   \n",
       "24390     Company provided                                  6  ...   \n",
       "24391               Rented                                  6  ...   \n",
       "24392               Rented                                  6  ...   \n",
       "48606  Living with Parents                                108  ...   \n",
       "48607  Living with Parents                                108  ...   \n",
       "48608               Rented                                 42  ...   \n",
       "48609               Rented                                 42  ...   \n",
       "\n",
       "       No of trades opened in last 12 months  \\\n",
       "5243                                       0   \n",
       "5244                                       5   \n",
       "5245                                       0   \n",
       "5246                                       5   \n",
       "24389                                      2   \n",
       "24390                                      3   \n",
       "24391                                      2   \n",
       "24392                                      3   \n",
       "48606                                      6   \n",
       "48607                                      7   \n",
       "48608                                      6   \n",
       "48609                                      7   \n",
       "\n",
       "       No of PL trades opened in last 6 months  \\\n",
       "5243                                         0   \n",
       "5244                                         1   \n",
       "5245                                         0   \n",
       "5246                                         1   \n",
       "24389                                        0   \n",
       "24390                                        0   \n",
       "24391                                        0   \n",
       "24392                                        0   \n",
       "48606                                        1   \n",
       "48607                                        1   \n",
       "48608                                        1   \n",
       "48609                                        1   \n",
       "\n",
       "       No of PL trades opened in last 12 months  \\\n",
       "5243                                          0   \n",
       "5244                                          3   \n",
       "5245                                          0   \n",
       "5246                                          3   \n",
       "24389                                         1   \n",
       "24390                                         0   \n",
       "24391                                         1   \n",
       "24392                                         0   \n",
       "48606                                         4   \n",
       "48607                                         4   \n",
       "48608                                         4   \n",
       "48609                                         4   \n",
       "\n",
       "       No of Inquiries in last 6 months (excluding home & auto loans)  \\\n",
       "5243                                                   0                \n",
       "5244                                                   1                \n",
       "5245                                                   0                \n",
       "5246                                                   1                \n",
       "24389                                                  2                \n",
       "24390                                                  1                \n",
       "24391                                                  2                \n",
       "24392                                                  1                \n",
       "48606                                                  3                \n",
       "48607                                                  2                \n",
       "48608                                                  3                \n",
       "48609                                                  2                \n",
       "\n",
       "       No of Inquiries in last 12 months (excluding home & auto loans)  \\\n",
       "5243                                                   0                 \n",
       "5244                                                   3                 \n",
       "5245                                                   0                 \n",
       "5246                                                   3                 \n",
       "24389                                                  2                 \n",
       "24390                                                  3                 \n",
       "24391                                                  2                 \n",
       "24392                                                  3                 \n",
       "48606                                                  5                 \n",
       "48607                                                  6                 \n",
       "48608                                                  5                 \n",
       "48609                                                  6                 \n",
       "\n",
       "       Presence of open home loan  Outstanding Balance  Total No of Trades  \\\n",
       "5243                          0.0              10494.0                   2   \n",
       "5244                          0.0             628075.0                   6   \n",
       "5245                          0.0              10494.0                   2   \n",
       "5246                          0.0             628075.0                   6   \n",
       "24389                         0.0             212656.0                   3   \n",
       "24390                         0.0              29817.0                   6   \n",
       "24391                         0.0             212656.0                   3   \n",
       "24392                         0.0              29817.0                   6   \n",
       "48606                         0.0             806473.0                   7   \n",
       "48607                         0.0             822298.0                   7   \n",
       "48608                         0.0             806473.0                   7   \n",
       "48609                         0.0             822298.0                   7   \n",
       "\n",
       "       Presence of open auto loan  Performance Tag_y  \n",
       "5243                            0                0.0  \n",
       "5244                            0                1.0  \n",
       "5245                            0                0.0  \n",
       "5246                            0                1.0  \n",
       "24389                           0                0.0  \n",
       "24390                           0                0.0  \n",
       "24391                           0                0.0  \n",
       "24392                           0                0.0  \n",
       "48606                           1                0.0  \n",
       "48607                           0                0.0  \n",
       "48608                           1                0.0  \n",
       "48609                           0                0.0  \n",
       "\n",
       "[12 rows x 30 columns]"
      ]
     },
     "execution_count": 15,
     "metadata": {},
     "output_type": "execute_result"
    }
   ],
   "source": [
    "master_df[master_df['Application ID'].duplicated(keep=False)]"
   ]
  },
  {
   "cell_type": "code",
   "execution_count": 16,
   "metadata": {},
   "outputs": [
    {
     "data": {
      "text/plain": [
       "9"
      ]
     },
     "execution_count": 16,
     "metadata": {},
     "output_type": "execute_result"
    }
   ],
   "source": [
    "master_df['Application ID'].duplicated().sum()"
   ]
  },
  {
   "cell_type": "code",
   "execution_count": 17,
   "metadata": {},
   "outputs": [],
   "source": [
    "master_df = master_df.drop_duplicates(subset='Application ID', keep='first')"
   ]
  },
  {
   "cell_type": "code",
   "execution_count": 18,
   "metadata": {},
   "outputs": [
    {
     "data": {
      "text/html": [
       "<div>\n",
       "<style scoped>\n",
       "    .dataframe tbody tr th:only-of-type {\n",
       "        vertical-align: middle;\n",
       "    }\n",
       "\n",
       "    .dataframe tbody tr th {\n",
       "        vertical-align: top;\n",
       "    }\n",
       "\n",
       "    .dataframe thead th {\n",
       "        text-align: right;\n",
       "    }\n",
       "</style>\n",
       "<table border=\"1\" class=\"dataframe\">\n",
       "  <thead>\n",
       "    <tr style=\"text-align: right;\">\n",
       "      <th></th>\n",
       "      <th>Application ID</th>\n",
       "      <th>Age</th>\n",
       "      <th>Gender</th>\n",
       "      <th>Marital Status (at the time of application)</th>\n",
       "      <th>No of dependents</th>\n",
       "      <th>Income</th>\n",
       "      <th>Education</th>\n",
       "      <th>Profession</th>\n",
       "      <th>Type of residence</th>\n",
       "      <th>No of months in current residence</th>\n",
       "      <th>...</th>\n",
       "      <th>No of trades opened in last 12 months</th>\n",
       "      <th>No of PL trades opened in last 6 months</th>\n",
       "      <th>No of PL trades opened in last 12 months</th>\n",
       "      <th>No of Inquiries in last 6 months (excluding home &amp; auto loans)</th>\n",
       "      <th>No of Inquiries in last 12 months (excluding home &amp; auto loans)</th>\n",
       "      <th>Presence of open home loan</th>\n",
       "      <th>Outstanding Balance</th>\n",
       "      <th>Total No of Trades</th>\n",
       "      <th>Presence of open auto loan</th>\n",
       "      <th>Performance Tag_y</th>\n",
       "    </tr>\n",
       "  </thead>\n",
       "  <tbody>\n",
       "  </tbody>\n",
       "</table>\n",
       "<p>0 rows × 30 columns</p>\n",
       "</div>"
      ],
      "text/plain": [
       "Empty DataFrame\n",
       "Columns: [Application ID, Age, Gender, Marital Status (at the time of application), No of dependents, Income, Education, Profession , Type of residence, No of months in current residence, No of months in current company, Performance Tag_x, No of times 90 DPD or worse in last 6 months, No of times 60 DPD or worse in last 6 months, No of times 30 DPD or worse in last 6 months, No of times 90 DPD or worse in last 12 months, No of times 60 DPD or worse in last 12 months, No of times 30 DPD or worse in last 12 months, Avgas CC Utilization in last 12 months, No of trades opened in last 6 months, No of trades opened in last 12 months, No of PL trades opened in last 6 months, No of PL trades opened in last 12 months, No of Inquiries in last 6 months (excluding home & auto loans), No of Inquiries in last 12 months (excluding home & auto loans), Presence of open home loan, Outstanding Balance, Total No of Trades, Presence of open auto loan, Performance Tag_y]\n",
       "Index: []\n",
       "\n",
       "[0 rows x 30 columns]"
      ]
     },
     "execution_count": 18,
     "metadata": {},
     "output_type": "execute_result"
    }
   ],
   "source": [
    "master_df[master_df['Application ID'].duplicated()]"
   ]
  },
  {
   "cell_type": "code",
   "execution_count": 19,
   "metadata": {},
   "outputs": [
    {
     "data": {
      "text/html": [
       "<div>\n",
       "<style scoped>\n",
       "    .dataframe tbody tr th:only-of-type {\n",
       "        vertical-align: middle;\n",
       "    }\n",
       "\n",
       "    .dataframe tbody tr th {\n",
       "        vertical-align: top;\n",
       "    }\n",
       "\n",
       "    .dataframe thead th {\n",
       "        text-align: right;\n",
       "    }\n",
       "</style>\n",
       "<table border=\"1\" class=\"dataframe\">\n",
       "  <thead>\n",
       "    <tr style=\"text-align: right;\">\n",
       "      <th></th>\n",
       "      <th>Application ID</th>\n",
       "      <th>Age</th>\n",
       "      <th>Gender</th>\n",
       "      <th>Marital Status (at the time of application)</th>\n",
       "      <th>No of dependents</th>\n",
       "      <th>Income</th>\n",
       "      <th>Education</th>\n",
       "      <th>Profession</th>\n",
       "      <th>Type of residence</th>\n",
       "      <th>No of months in current residence</th>\n",
       "      <th>...</th>\n",
       "      <th>No of trades opened in last 12 months</th>\n",
       "      <th>No of PL trades opened in last 6 months</th>\n",
       "      <th>No of PL trades opened in last 12 months</th>\n",
       "      <th>No of Inquiries in last 6 months (excluding home &amp; auto loans)</th>\n",
       "      <th>No of Inquiries in last 12 months (excluding home &amp; auto loans)</th>\n",
       "      <th>Presence of open home loan</th>\n",
       "      <th>Outstanding Balance</th>\n",
       "      <th>Total No of Trades</th>\n",
       "      <th>Presence of open auto loan</th>\n",
       "      <th>Performance Tag_y</th>\n",
       "    </tr>\n",
       "  </thead>\n",
       "  <tbody>\n",
       "    <tr>\n",
       "      <th>48606</th>\n",
       "      <td>671989187</td>\n",
       "      <td>27</td>\n",
       "      <td>M</td>\n",
       "      <td>Married</td>\n",
       "      <td>2.0</td>\n",
       "      <td>35.0</td>\n",
       "      <td>Professional</td>\n",
       "      <td>SAL</td>\n",
       "      <td>Living with Parents</td>\n",
       "      <td>108</td>\n",
       "      <td>...</td>\n",
       "      <td>6</td>\n",
       "      <td>1</td>\n",
       "      <td>4</td>\n",
       "      <td>3</td>\n",
       "      <td>5</td>\n",
       "      <td>0.0</td>\n",
       "      <td>806473.0</td>\n",
       "      <td>7</td>\n",
       "      <td>1</td>\n",
       "      <td>0.0</td>\n",
       "    </tr>\n",
       "  </tbody>\n",
       "</table>\n",
       "<p>1 rows × 30 columns</p>\n",
       "</div>"
      ],
      "text/plain": [
       "       Application ID  Age Gender Marital Status (at the time of application)  \\\n",
       "48606       671989187   27      M                                     Married   \n",
       "\n",
       "       No of dependents  Income     Education Profession   \\\n",
       "48606               2.0    35.0  Professional         SAL   \n",
       "\n",
       "         Type of residence  No of months in current residence  ...  \\\n",
       "48606  Living with Parents                                108  ...   \n",
       "\n",
       "       No of trades opened in last 12 months  \\\n",
       "48606                                      6   \n",
       "\n",
       "       No of PL trades opened in last 6 months  \\\n",
       "48606                                        1   \n",
       "\n",
       "       No of PL trades opened in last 12 months  \\\n",
       "48606                                         4   \n",
       "\n",
       "       No of Inquiries in last 6 months (excluding home & auto loans)  \\\n",
       "48606                                                  3                \n",
       "\n",
       "       No of Inquiries in last 12 months (excluding home & auto loans)  \\\n",
       "48606                                                  5                 \n",
       "\n",
       "       Presence of open home loan  Outstanding Balance  Total No of Trades  \\\n",
       "48606                         0.0             806473.0                   7   \n",
       "\n",
       "       Presence of open auto loan  Performance Tag_y  \n",
       "48606                           1                0.0  \n",
       "\n",
       "[1 rows x 30 columns]"
      ]
     },
     "execution_count": 19,
     "metadata": {},
     "output_type": "execute_result"
    }
   ],
   "source": [
    "\n",
    "master_df[master_df['Application ID'] == 671989187]"
   ]
  },
  {
   "cell_type": "code",
   "execution_count": 20,
   "metadata": {},
   "outputs": [
    {
     "name": "stdout",
     "output_type": "stream",
     "text": [
      "<class 'pandas.core.frame.DataFrame'>\n",
      "Int64Index: 71292 entries, 0 to 71300\n",
      "Data columns (total 30 columns):\n",
      " #   Column                                                           Non-Null Count  Dtype  \n",
      "---  ------                                                           --------------  -----  \n",
      " 0   Application ID                                                   71292 non-null  int64  \n",
      " 1   Age                                                              71292 non-null  int64  \n",
      " 2   Gender                                                           71290 non-null  object \n",
      " 3   Marital Status (at the time of application)                      71286 non-null  object \n",
      " 4   No of dependents                                                 71289 non-null  float64\n",
      " 5   Income                                                           71292 non-null  float64\n",
      " 6   Education                                                        71173 non-null  object \n",
      " 7   Profession                                                       71278 non-null  object \n",
      " 8   Type of residence                                                71284 non-null  object \n",
      " 9   No of months in current residence                                71292 non-null  int64  \n",
      " 10  No of months in current company                                  71292 non-null  int64  \n",
      " 11  Performance Tag_x                                                69867 non-null  float64\n",
      " 12  No of times 90 DPD or worse in last 6 months                     71292 non-null  int64  \n",
      " 13  No of times 60 DPD or worse in last 6 months                     71292 non-null  int64  \n",
      " 14  No of times 30 DPD or worse in last 6 months                     71292 non-null  int64  \n",
      " 15  No of times 90 DPD or worse in last 12 months                    71292 non-null  int64  \n",
      " 16  No of times 60 DPD or worse in last 12 months                    71292 non-null  int64  \n",
      " 17  No of times 30 DPD or worse in last 12 months                    71292 non-null  int64  \n",
      " 18  Avgas CC Utilization in last 12 months                           70234 non-null  float64\n",
      " 19  No of trades opened in last 6 months                             71291 non-null  float64\n",
      " 20  No of trades opened in last 12 months                            71292 non-null  int64  \n",
      " 21  No of PL trades opened in last 6 months                          71292 non-null  int64  \n",
      " 22  No of PL trades opened in last 12 months                         71292 non-null  int64  \n",
      " 23  No of Inquiries in last 6 months (excluding home & auto loans)   71292 non-null  int64  \n",
      " 24  No of Inquiries in last 12 months (excluding home & auto loans)  71292 non-null  int64  \n",
      " 25  Presence of open home loan                                       71020 non-null  float64\n",
      " 26  Outstanding Balance                                              71020 non-null  float64\n",
      " 27  Total No of Trades                                               71292 non-null  int64  \n",
      " 28  Presence of open auto loan                                       71292 non-null  int64  \n",
      " 29  Performance Tag_y                                                69867 non-null  float64\n",
      "dtypes: float64(8), int64(17), object(5)\n",
      "memory usage: 16.9+ MB\n"
     ]
    }
   ],
   "source": [
    "master_df.info()"
   ]
  },
  {
   "cell_type": "code",
   "execution_count": 21,
   "metadata": {},
   "outputs": [
    {
     "data": {
      "text/plain": [
       "Performance Tag_y                                                  1425\n",
       "Performance Tag_x                                                  1425\n",
       "Avgas CC Utilization in last 12 months                             1058\n",
       "Outstanding Balance                                                 272\n",
       "Presence of open home loan                                          272\n",
       "Education                                                           119\n",
       "Profession                                                           14\n",
       "Type of residence                                                     8\n",
       "Marital Status (at the time of application)                           6\n",
       "No of dependents                                                      3\n",
       "Gender                                                                2\n",
       "No of trades opened in last 6 months                                  1\n",
       "Presence of open auto loan                                            0\n",
       "No of Inquiries in last 12 months (excluding home & auto loans)       0\n",
       "No of Inquiries in last 6 months (excluding home & auto loans)        0\n",
       "No of PL trades opened in last 12 months                              0\n",
       "No of PL trades opened in last 6 months                               0\n",
       "No of trades opened in last 12 months                                 0\n",
       "Total No of Trades                                                    0\n",
       "Application ID                                                        0\n",
       "No of times 30 DPD or worse in last 12 months                         0\n",
       "No of times 60 DPD or worse in last 12 months                         0\n",
       "Age                                                                   0\n",
       "No of times 30 DPD or worse in last 6 months                          0\n",
       "No of times 60 DPD or worse in last 6 months                          0\n",
       "No of times 90 DPD or worse in last 6 months                          0\n",
       "No of months in current company                                       0\n",
       "No of months in current residence                                     0\n",
       "Income                                                                0\n",
       "No of times 90 DPD or worse in last 12 months                         0\n",
       "dtype: int64"
      ]
     },
     "execution_count": 21,
     "metadata": {},
     "output_type": "execute_result"
    }
   ],
   "source": [
    "master_df.isnull().sum().sort_values(ascending=False)"
   ]
  },
  {
   "cell_type": "code",
   "execution_count": 22,
   "metadata": {},
   "outputs": [
    {
     "data": {
      "text/html": [
       "<div>\n",
       "<style scoped>\n",
       "    .dataframe tbody tr th:only-of-type {\n",
       "        vertical-align: middle;\n",
       "    }\n",
       "\n",
       "    .dataframe tbody tr th {\n",
       "        vertical-align: top;\n",
       "    }\n",
       "\n",
       "    .dataframe thead th {\n",
       "        text-align: right;\n",
       "    }\n",
       "</style>\n",
       "<table border=\"1\" class=\"dataframe\">\n",
       "  <thead>\n",
       "    <tr style=\"text-align: right;\">\n",
       "      <th></th>\n",
       "      <th>Application ID</th>\n",
       "      <th>Age</th>\n",
       "      <th>Gender</th>\n",
       "      <th>Marital Status (at the time of application)</th>\n",
       "      <th>No of dependents</th>\n",
       "      <th>Income</th>\n",
       "      <th>Education</th>\n",
       "      <th>Profession</th>\n",
       "      <th>Type of residence</th>\n",
       "      <th>No of months in current residence</th>\n",
       "      <th>...</th>\n",
       "      <th>No of trades opened in last 12 months</th>\n",
       "      <th>No of PL trades opened in last 6 months</th>\n",
       "      <th>No of PL trades opened in last 12 months</th>\n",
       "      <th>No of Inquiries in last 6 months (excluding home &amp; auto loans)</th>\n",
       "      <th>No of Inquiries in last 12 months (excluding home &amp; auto loans)</th>\n",
       "      <th>Presence of open home loan</th>\n",
       "      <th>Outstanding Balance</th>\n",
       "      <th>Total No of Trades</th>\n",
       "      <th>Presence of open auto loan</th>\n",
       "      <th>Performance Tag_y</th>\n",
       "    </tr>\n",
       "  </thead>\n",
       "  <tbody>\n",
       "    <tr>\n",
       "      <th>0</th>\n",
       "      <td>954457215</td>\n",
       "      <td>48</td>\n",
       "      <td>F</td>\n",
       "      <td>Married</td>\n",
       "      <td>2.0</td>\n",
       "      <td>40.0</td>\n",
       "      <td>Bachelor</td>\n",
       "      <td>SAL</td>\n",
       "      <td>Rented</td>\n",
       "      <td>113</td>\n",
       "      <td>...</td>\n",
       "      <td>2</td>\n",
       "      <td>0</td>\n",
       "      <td>0</td>\n",
       "      <td>0</td>\n",
       "      <td>0</td>\n",
       "      <td>1.0</td>\n",
       "      <td>2999395.0</td>\n",
       "      <td>4</td>\n",
       "      <td>0</td>\n",
       "      <td>0.0</td>\n",
       "    </tr>\n",
       "    <tr>\n",
       "      <th>1</th>\n",
       "      <td>432830445</td>\n",
       "      <td>31</td>\n",
       "      <td>M</td>\n",
       "      <td>Married</td>\n",
       "      <td>4.0</td>\n",
       "      <td>55.0</td>\n",
       "      <td>Professional</td>\n",
       "      <td>SE_PROF</td>\n",
       "      <td>Rented</td>\n",
       "      <td>112</td>\n",
       "      <td>...</td>\n",
       "      <td>2</td>\n",
       "      <td>0</td>\n",
       "      <td>0</td>\n",
       "      <td>0</td>\n",
       "      <td>0</td>\n",
       "      <td>0.0</td>\n",
       "      <td>3078.0</td>\n",
       "      <td>5</td>\n",
       "      <td>0</td>\n",
       "      <td>0.0</td>\n",
       "    </tr>\n",
       "    <tr>\n",
       "      <th>2</th>\n",
       "      <td>941387308</td>\n",
       "      <td>32</td>\n",
       "      <td>M</td>\n",
       "      <td>Single</td>\n",
       "      <td>2.0</td>\n",
       "      <td>46.0</td>\n",
       "      <td>Bachelor</td>\n",
       "      <td>SE_PROF</td>\n",
       "      <td>Rented</td>\n",
       "      <td>104</td>\n",
       "      <td>...</td>\n",
       "      <td>0</td>\n",
       "      <td>0</td>\n",
       "      <td>0</td>\n",
       "      <td>0</td>\n",
       "      <td>0</td>\n",
       "      <td>1.0</td>\n",
       "      <td>3004972.0</td>\n",
       "      <td>2</td>\n",
       "      <td>0</td>\n",
       "      <td>0.0</td>\n",
       "    </tr>\n",
       "    <tr>\n",
       "      <th>3</th>\n",
       "      <td>392161677</td>\n",
       "      <td>43</td>\n",
       "      <td>M</td>\n",
       "      <td>Married</td>\n",
       "      <td>1.0</td>\n",
       "      <td>53.0</td>\n",
       "      <td>Bachelor</td>\n",
       "      <td>SE</td>\n",
       "      <td>Rented</td>\n",
       "      <td>94</td>\n",
       "      <td>...</td>\n",
       "      <td>1</td>\n",
       "      <td>0</td>\n",
       "      <td>0</td>\n",
       "      <td>0</td>\n",
       "      <td>0</td>\n",
       "      <td>1.0</td>\n",
       "      <td>3355373.0</td>\n",
       "      <td>4</td>\n",
       "      <td>1</td>\n",
       "      <td>0.0</td>\n",
       "    </tr>\n",
       "    <tr>\n",
       "      <th>4</th>\n",
       "      <td>182011211</td>\n",
       "      <td>35</td>\n",
       "      <td>F</td>\n",
       "      <td>Married</td>\n",
       "      <td>5.0</td>\n",
       "      <td>44.0</td>\n",
       "      <td>Professional</td>\n",
       "      <td>SAL</td>\n",
       "      <td>Rented</td>\n",
       "      <td>112</td>\n",
       "      <td>...</td>\n",
       "      <td>1</td>\n",
       "      <td>0</td>\n",
       "      <td>0</td>\n",
       "      <td>0</td>\n",
       "      <td>0</td>\n",
       "      <td>1.0</td>\n",
       "      <td>3014283.0</td>\n",
       "      <td>4</td>\n",
       "      <td>0</td>\n",
       "      <td>0.0</td>\n",
       "    </tr>\n",
       "  </tbody>\n",
       "</table>\n",
       "<p>5 rows × 30 columns</p>\n",
       "</div>"
      ],
      "text/plain": [
       "   Application ID  Age Gender Marital Status (at the time of application)  \\\n",
       "0       954457215   48      F                                     Married   \n",
       "1       432830445   31      M                                     Married   \n",
       "2       941387308   32      M                                      Single   \n",
       "3       392161677   43      M                                     Married   \n",
       "4       182011211   35      F                                     Married   \n",
       "\n",
       "   No of dependents  Income     Education Profession  Type of residence  \\\n",
       "0               2.0    40.0      Bachelor         SAL            Rented   \n",
       "1               4.0    55.0  Professional     SE_PROF            Rented   \n",
       "2               2.0    46.0      Bachelor     SE_PROF            Rented   \n",
       "3               1.0    53.0      Bachelor          SE            Rented   \n",
       "4               5.0    44.0  Professional         SAL            Rented   \n",
       "\n",
       "   No of months in current residence  ...  \\\n",
       "0                                113  ...   \n",
       "1                                112  ...   \n",
       "2                                104  ...   \n",
       "3                                 94  ...   \n",
       "4                                112  ...   \n",
       "\n",
       "   No of trades opened in last 12 months  \\\n",
       "0                                      2   \n",
       "1                                      2   \n",
       "2                                      0   \n",
       "3                                      1   \n",
       "4                                      1   \n",
       "\n",
       "   No of PL trades opened in last 6 months  \\\n",
       "0                                        0   \n",
       "1                                        0   \n",
       "2                                        0   \n",
       "3                                        0   \n",
       "4                                        0   \n",
       "\n",
       "   No of PL trades opened in last 12 months  \\\n",
       "0                                         0   \n",
       "1                                         0   \n",
       "2                                         0   \n",
       "3                                         0   \n",
       "4                                         0   \n",
       "\n",
       "   No of Inquiries in last 6 months (excluding home & auto loans)  \\\n",
       "0                                                  0                \n",
       "1                                                  0                \n",
       "2                                                  0                \n",
       "3                                                  0                \n",
       "4                                                  0                \n",
       "\n",
       "   No of Inquiries in last 12 months (excluding home & auto loans)  \\\n",
       "0                                                  0                 \n",
       "1                                                  0                 \n",
       "2                                                  0                 \n",
       "3                                                  0                 \n",
       "4                                                  0                 \n",
       "\n",
       "   Presence of open home loan  Outstanding Balance  Total No of Trades  \\\n",
       "0                         1.0            2999395.0                   4   \n",
       "1                         0.0               3078.0                   5   \n",
       "2                         1.0            3004972.0                   2   \n",
       "3                         1.0            3355373.0                   4   \n",
       "4                         1.0            3014283.0                   4   \n",
       "\n",
       "   Presence of open auto loan  Performance Tag_y  \n",
       "0                           0                0.0  \n",
       "1                           0                0.0  \n",
       "2                           0                0.0  \n",
       "3                           1                0.0  \n",
       "4                           0                0.0  \n",
       "\n",
       "[5 rows x 30 columns]"
      ]
     },
     "execution_count": 22,
     "metadata": {},
     "output_type": "execute_result"
    }
   ],
   "source": [
    "master_df.head()"
   ]
  },
  {
   "cell_type": "code",
   "execution_count": 23,
   "metadata": {},
   "outputs": [
    {
     "data": {
      "text/plain": [
       "True"
      ]
     },
     "execution_count": 23,
     "metadata": {},
     "output_type": "execute_result"
    }
   ],
   "source": [
    "master_df['Performance Tag_x'].equals(master_df['Performance Tag_y'])"
   ]
  },
  {
   "cell_type": "code",
   "execution_count": 24,
   "metadata": {},
   "outputs": [],
   "source": [
    "master_df = master_df.drop('Performance Tag_x', 1)"
   ]
  },
  {
   "cell_type": "code",
   "execution_count": 25,
   "metadata": {},
   "outputs": [],
   "source": [
    "master_df = master_df.rename(columns= {'Performance Tag_y': 'Performance Tag'})"
   ]
  },
  {
   "cell_type": "code",
   "execution_count": 26,
   "metadata": {},
   "outputs": [
    {
     "data": {
      "text/html": [
       "<div>\n",
       "<style scoped>\n",
       "    .dataframe tbody tr th:only-of-type {\n",
       "        vertical-align: middle;\n",
       "    }\n",
       "\n",
       "    .dataframe tbody tr th {\n",
       "        vertical-align: top;\n",
       "    }\n",
       "\n",
       "    .dataframe thead th {\n",
       "        text-align: right;\n",
       "    }\n",
       "</style>\n",
       "<table border=\"1\" class=\"dataframe\">\n",
       "  <thead>\n",
       "    <tr style=\"text-align: right;\">\n",
       "      <th></th>\n",
       "      <th>Application ID</th>\n",
       "      <th>Age</th>\n",
       "      <th>Gender</th>\n",
       "      <th>Marital Status (at the time of application)</th>\n",
       "      <th>No of dependents</th>\n",
       "      <th>Income</th>\n",
       "      <th>Education</th>\n",
       "      <th>Profession</th>\n",
       "      <th>Type of residence</th>\n",
       "      <th>No of months in current residence</th>\n",
       "      <th>...</th>\n",
       "      <th>No of trades opened in last 12 months</th>\n",
       "      <th>No of PL trades opened in last 6 months</th>\n",
       "      <th>No of PL trades opened in last 12 months</th>\n",
       "      <th>No of Inquiries in last 6 months (excluding home &amp; auto loans)</th>\n",
       "      <th>No of Inquiries in last 12 months (excluding home &amp; auto loans)</th>\n",
       "      <th>Presence of open home loan</th>\n",
       "      <th>Outstanding Balance</th>\n",
       "      <th>Total No of Trades</th>\n",
       "      <th>Presence of open auto loan</th>\n",
       "      <th>Performance Tag</th>\n",
       "    </tr>\n",
       "  </thead>\n",
       "  <tbody>\n",
       "    <tr>\n",
       "      <th>0</th>\n",
       "      <td>954457215</td>\n",
       "      <td>48</td>\n",
       "      <td>F</td>\n",
       "      <td>Married</td>\n",
       "      <td>2.0</td>\n",
       "      <td>40.0</td>\n",
       "      <td>Bachelor</td>\n",
       "      <td>SAL</td>\n",
       "      <td>Rented</td>\n",
       "      <td>113</td>\n",
       "      <td>...</td>\n",
       "      <td>2</td>\n",
       "      <td>0</td>\n",
       "      <td>0</td>\n",
       "      <td>0</td>\n",
       "      <td>0</td>\n",
       "      <td>1.0</td>\n",
       "      <td>2999395.0</td>\n",
       "      <td>4</td>\n",
       "      <td>0</td>\n",
       "      <td>0.0</td>\n",
       "    </tr>\n",
       "    <tr>\n",
       "      <th>1</th>\n",
       "      <td>432830445</td>\n",
       "      <td>31</td>\n",
       "      <td>M</td>\n",
       "      <td>Married</td>\n",
       "      <td>4.0</td>\n",
       "      <td>55.0</td>\n",
       "      <td>Professional</td>\n",
       "      <td>SE_PROF</td>\n",
       "      <td>Rented</td>\n",
       "      <td>112</td>\n",
       "      <td>...</td>\n",
       "      <td>2</td>\n",
       "      <td>0</td>\n",
       "      <td>0</td>\n",
       "      <td>0</td>\n",
       "      <td>0</td>\n",
       "      <td>0.0</td>\n",
       "      <td>3078.0</td>\n",
       "      <td>5</td>\n",
       "      <td>0</td>\n",
       "      <td>0.0</td>\n",
       "    </tr>\n",
       "    <tr>\n",
       "      <th>2</th>\n",
       "      <td>941387308</td>\n",
       "      <td>32</td>\n",
       "      <td>M</td>\n",
       "      <td>Single</td>\n",
       "      <td>2.0</td>\n",
       "      <td>46.0</td>\n",
       "      <td>Bachelor</td>\n",
       "      <td>SE_PROF</td>\n",
       "      <td>Rented</td>\n",
       "      <td>104</td>\n",
       "      <td>...</td>\n",
       "      <td>0</td>\n",
       "      <td>0</td>\n",
       "      <td>0</td>\n",
       "      <td>0</td>\n",
       "      <td>0</td>\n",
       "      <td>1.0</td>\n",
       "      <td>3004972.0</td>\n",
       "      <td>2</td>\n",
       "      <td>0</td>\n",
       "      <td>0.0</td>\n",
       "    </tr>\n",
       "    <tr>\n",
       "      <th>3</th>\n",
       "      <td>392161677</td>\n",
       "      <td>43</td>\n",
       "      <td>M</td>\n",
       "      <td>Married</td>\n",
       "      <td>1.0</td>\n",
       "      <td>53.0</td>\n",
       "      <td>Bachelor</td>\n",
       "      <td>SE</td>\n",
       "      <td>Rented</td>\n",
       "      <td>94</td>\n",
       "      <td>...</td>\n",
       "      <td>1</td>\n",
       "      <td>0</td>\n",
       "      <td>0</td>\n",
       "      <td>0</td>\n",
       "      <td>0</td>\n",
       "      <td>1.0</td>\n",
       "      <td>3355373.0</td>\n",
       "      <td>4</td>\n",
       "      <td>1</td>\n",
       "      <td>0.0</td>\n",
       "    </tr>\n",
       "    <tr>\n",
       "      <th>4</th>\n",
       "      <td>182011211</td>\n",
       "      <td>35</td>\n",
       "      <td>F</td>\n",
       "      <td>Married</td>\n",
       "      <td>5.0</td>\n",
       "      <td>44.0</td>\n",
       "      <td>Professional</td>\n",
       "      <td>SAL</td>\n",
       "      <td>Rented</td>\n",
       "      <td>112</td>\n",
       "      <td>...</td>\n",
       "      <td>1</td>\n",
       "      <td>0</td>\n",
       "      <td>0</td>\n",
       "      <td>0</td>\n",
       "      <td>0</td>\n",
       "      <td>1.0</td>\n",
       "      <td>3014283.0</td>\n",
       "      <td>4</td>\n",
       "      <td>0</td>\n",
       "      <td>0.0</td>\n",
       "    </tr>\n",
       "  </tbody>\n",
       "</table>\n",
       "<p>5 rows × 29 columns</p>\n",
       "</div>"
      ],
      "text/plain": [
       "   Application ID  Age Gender Marital Status (at the time of application)  \\\n",
       "0       954457215   48      F                                     Married   \n",
       "1       432830445   31      M                                     Married   \n",
       "2       941387308   32      M                                      Single   \n",
       "3       392161677   43      M                                     Married   \n",
       "4       182011211   35      F                                     Married   \n",
       "\n",
       "   No of dependents  Income     Education Profession  Type of residence  \\\n",
       "0               2.0    40.0      Bachelor         SAL            Rented   \n",
       "1               4.0    55.0  Professional     SE_PROF            Rented   \n",
       "2               2.0    46.0      Bachelor     SE_PROF            Rented   \n",
       "3               1.0    53.0      Bachelor          SE            Rented   \n",
       "4               5.0    44.0  Professional         SAL            Rented   \n",
       "\n",
       "   No of months in current residence  ...  \\\n",
       "0                                113  ...   \n",
       "1                                112  ...   \n",
       "2                                104  ...   \n",
       "3                                 94  ...   \n",
       "4                                112  ...   \n",
       "\n",
       "   No of trades opened in last 12 months  \\\n",
       "0                                      2   \n",
       "1                                      2   \n",
       "2                                      0   \n",
       "3                                      1   \n",
       "4                                      1   \n",
       "\n",
       "   No of PL trades opened in last 6 months  \\\n",
       "0                                        0   \n",
       "1                                        0   \n",
       "2                                        0   \n",
       "3                                        0   \n",
       "4                                        0   \n",
       "\n",
       "   No of PL trades opened in last 12 months  \\\n",
       "0                                         0   \n",
       "1                                         0   \n",
       "2                                         0   \n",
       "3                                         0   \n",
       "4                                         0   \n",
       "\n",
       "   No of Inquiries in last 6 months (excluding home & auto loans)  \\\n",
       "0                                                  0                \n",
       "1                                                  0                \n",
       "2                                                  0                \n",
       "3                                                  0                \n",
       "4                                                  0                \n",
       "\n",
       "   No of Inquiries in last 12 months (excluding home & auto loans)  \\\n",
       "0                                                  0                 \n",
       "1                                                  0                 \n",
       "2                                                  0                 \n",
       "3                                                  0                 \n",
       "4                                                  0                 \n",
       "\n",
       "   Presence of open home loan  Outstanding Balance  Total No of Trades  \\\n",
       "0                         1.0            2999395.0                   4   \n",
       "1                         0.0               3078.0                   5   \n",
       "2                         1.0            3004972.0                   2   \n",
       "3                         1.0            3355373.0                   4   \n",
       "4                         1.0            3014283.0                   4   \n",
       "\n",
       "   Presence of open auto loan  Performance Tag  \n",
       "0                           0              0.0  \n",
       "1                           0              0.0  \n",
       "2                           0              0.0  \n",
       "3                           1              0.0  \n",
       "4                           0              0.0  \n",
       "\n",
       "[5 rows x 29 columns]"
      ]
     },
     "execution_count": 26,
     "metadata": {},
     "output_type": "execute_result"
    }
   ],
   "source": [
    "master_df.head()"
   ]
  },
  {
   "cell_type": "code",
   "execution_count": 27,
   "metadata": {},
   "outputs": [
    {
     "data": {
      "text/html": [
       "<div>\n",
       "<style scoped>\n",
       "    .dataframe tbody tr th:only-of-type {\n",
       "        vertical-align: middle;\n",
       "    }\n",
       "\n",
       "    .dataframe tbody tr th {\n",
       "        vertical-align: top;\n",
       "    }\n",
       "\n",
       "    .dataframe thead th {\n",
       "        text-align: right;\n",
       "    }\n",
       "</style>\n",
       "<table border=\"1\" class=\"dataframe\">\n",
       "  <thead>\n",
       "    <tr style=\"text-align: right;\">\n",
       "      <th></th>\n",
       "      <th>Application ID</th>\n",
       "      <th>Age</th>\n",
       "      <th>Gender</th>\n",
       "      <th>Marital Status (at the time of application)</th>\n",
       "      <th>No of dependents</th>\n",
       "      <th>Income</th>\n",
       "      <th>Education</th>\n",
       "      <th>Profession</th>\n",
       "      <th>Type of residence</th>\n",
       "      <th>No of months in current residence</th>\n",
       "      <th>...</th>\n",
       "      <th>No of trades opened in last 12 months</th>\n",
       "      <th>No of PL trades opened in last 6 months</th>\n",
       "      <th>No of PL trades opened in last 12 months</th>\n",
       "      <th>No of Inquiries in last 6 months (excluding home &amp; auto loans)</th>\n",
       "      <th>No of Inquiries in last 12 months (excluding home &amp; auto loans)</th>\n",
       "      <th>Presence of open home loan</th>\n",
       "      <th>Outstanding Balance</th>\n",
       "      <th>Total No of Trades</th>\n",
       "      <th>Presence of open auto loan</th>\n",
       "      <th>Performance Tag</th>\n",
       "    </tr>\n",
       "  </thead>\n",
       "  <tbody>\n",
       "    <tr>\n",
       "      <th>0</th>\n",
       "      <td>954457215</td>\n",
       "      <td>48</td>\n",
       "      <td>F</td>\n",
       "      <td>Married</td>\n",
       "      <td>2.0</td>\n",
       "      <td>40.0</td>\n",
       "      <td>Bachelor</td>\n",
       "      <td>SAL</td>\n",
       "      <td>Rented</td>\n",
       "      <td>113</td>\n",
       "      <td>...</td>\n",
       "      <td>2</td>\n",
       "      <td>0</td>\n",
       "      <td>0</td>\n",
       "      <td>0</td>\n",
       "      <td>0</td>\n",
       "      <td>1.0</td>\n",
       "      <td>2999395.0</td>\n",
       "      <td>4</td>\n",
       "      <td>0</td>\n",
       "      <td>0.0</td>\n",
       "    </tr>\n",
       "    <tr>\n",
       "      <th>1</th>\n",
       "      <td>432830445</td>\n",
       "      <td>31</td>\n",
       "      <td>M</td>\n",
       "      <td>Married</td>\n",
       "      <td>4.0</td>\n",
       "      <td>55.0</td>\n",
       "      <td>Professional</td>\n",
       "      <td>SE_PROF</td>\n",
       "      <td>Rented</td>\n",
       "      <td>112</td>\n",
       "      <td>...</td>\n",
       "      <td>2</td>\n",
       "      <td>0</td>\n",
       "      <td>0</td>\n",
       "      <td>0</td>\n",
       "      <td>0</td>\n",
       "      <td>0.0</td>\n",
       "      <td>3078.0</td>\n",
       "      <td>5</td>\n",
       "      <td>0</td>\n",
       "      <td>0.0</td>\n",
       "    </tr>\n",
       "    <tr>\n",
       "      <th>2</th>\n",
       "      <td>941387308</td>\n",
       "      <td>32</td>\n",
       "      <td>M</td>\n",
       "      <td>Single</td>\n",
       "      <td>2.0</td>\n",
       "      <td>46.0</td>\n",
       "      <td>Bachelor</td>\n",
       "      <td>SE_PROF</td>\n",
       "      <td>Rented</td>\n",
       "      <td>104</td>\n",
       "      <td>...</td>\n",
       "      <td>0</td>\n",
       "      <td>0</td>\n",
       "      <td>0</td>\n",
       "      <td>0</td>\n",
       "      <td>0</td>\n",
       "      <td>1.0</td>\n",
       "      <td>3004972.0</td>\n",
       "      <td>2</td>\n",
       "      <td>0</td>\n",
       "      <td>0.0</td>\n",
       "    </tr>\n",
       "    <tr>\n",
       "      <th>3</th>\n",
       "      <td>392161677</td>\n",
       "      <td>43</td>\n",
       "      <td>M</td>\n",
       "      <td>Married</td>\n",
       "      <td>1.0</td>\n",
       "      <td>53.0</td>\n",
       "      <td>Bachelor</td>\n",
       "      <td>SE</td>\n",
       "      <td>Rented</td>\n",
       "      <td>94</td>\n",
       "      <td>...</td>\n",
       "      <td>1</td>\n",
       "      <td>0</td>\n",
       "      <td>0</td>\n",
       "      <td>0</td>\n",
       "      <td>0</td>\n",
       "      <td>1.0</td>\n",
       "      <td>3355373.0</td>\n",
       "      <td>4</td>\n",
       "      <td>1</td>\n",
       "      <td>0.0</td>\n",
       "    </tr>\n",
       "    <tr>\n",
       "      <th>4</th>\n",
       "      <td>182011211</td>\n",
       "      <td>35</td>\n",
       "      <td>F</td>\n",
       "      <td>Married</td>\n",
       "      <td>5.0</td>\n",
       "      <td>44.0</td>\n",
       "      <td>Professional</td>\n",
       "      <td>SAL</td>\n",
       "      <td>Rented</td>\n",
       "      <td>112</td>\n",
       "      <td>...</td>\n",
       "      <td>1</td>\n",
       "      <td>0</td>\n",
       "      <td>0</td>\n",
       "      <td>0</td>\n",
       "      <td>0</td>\n",
       "      <td>1.0</td>\n",
       "      <td>3014283.0</td>\n",
       "      <td>4</td>\n",
       "      <td>0</td>\n",
       "      <td>0.0</td>\n",
       "    </tr>\n",
       "  </tbody>\n",
       "</table>\n",
       "<p>5 rows × 29 columns</p>\n",
       "</div>"
      ],
      "text/plain": [
       "   Application ID  Age Gender Marital Status (at the time of application)  \\\n",
       "0       954457215   48      F                                     Married   \n",
       "1       432830445   31      M                                     Married   \n",
       "2       941387308   32      M                                      Single   \n",
       "3       392161677   43      M                                     Married   \n",
       "4       182011211   35      F                                     Married   \n",
       "\n",
       "   No of dependents  Income     Education Profession  Type of residence  \\\n",
       "0               2.0    40.0      Bachelor         SAL            Rented   \n",
       "1               4.0    55.0  Professional     SE_PROF            Rented   \n",
       "2               2.0    46.0      Bachelor     SE_PROF            Rented   \n",
       "3               1.0    53.0      Bachelor          SE            Rented   \n",
       "4               5.0    44.0  Professional         SAL            Rented   \n",
       "\n",
       "   No of months in current residence  ...  \\\n",
       "0                                113  ...   \n",
       "1                                112  ...   \n",
       "2                                104  ...   \n",
       "3                                 94  ...   \n",
       "4                                112  ...   \n",
       "\n",
       "   No of trades opened in last 12 months  \\\n",
       "0                                      2   \n",
       "1                                      2   \n",
       "2                                      0   \n",
       "3                                      1   \n",
       "4                                      1   \n",
       "\n",
       "   No of PL trades opened in last 6 months  \\\n",
       "0                                        0   \n",
       "1                                        0   \n",
       "2                                        0   \n",
       "3                                        0   \n",
       "4                                        0   \n",
       "\n",
       "   No of PL trades opened in last 12 months  \\\n",
       "0                                         0   \n",
       "1                                         0   \n",
       "2                                         0   \n",
       "3                                         0   \n",
       "4                                         0   \n",
       "\n",
       "   No of Inquiries in last 6 months (excluding home & auto loans)  \\\n",
       "0                                                  0                \n",
       "1                                                  0                \n",
       "2                                                  0                \n",
       "3                                                  0                \n",
       "4                                                  0                \n",
       "\n",
       "   No of Inquiries in last 12 months (excluding home & auto loans)  \\\n",
       "0                                                  0                 \n",
       "1                                                  0                 \n",
       "2                                                  0                 \n",
       "3                                                  0                 \n",
       "4                                                  0                 \n",
       "\n",
       "   Presence of open home loan  Outstanding Balance  Total No of Trades  \\\n",
       "0                         1.0            2999395.0                   4   \n",
       "1                         0.0               3078.0                   5   \n",
       "2                         1.0            3004972.0                   2   \n",
       "3                         1.0            3355373.0                   4   \n",
       "4                         1.0            3014283.0                   4   \n",
       "\n",
       "   Presence of open auto loan  Performance Tag  \n",
       "0                           0              0.0  \n",
       "1                           0              0.0  \n",
       "2                           0              0.0  \n",
       "3                           1              0.0  \n",
       "4                           0              0.0  \n",
       "\n",
       "[5 rows x 29 columns]"
      ]
     },
     "execution_count": 27,
     "metadata": {},
     "output_type": "execute_result"
    }
   ],
   "source": [
    "master_df.head()"
   ]
  },
  {
   "cell_type": "code",
   "execution_count": 28,
   "metadata": {},
   "outputs": [
    {
     "data": {
      "text/plain": [
       "Index(['Application ID', 'Age', 'Gender',\n",
       "       'Marital Status (at the time of application)', 'No of dependents',\n",
       "       'Income', 'Education', 'Profession ', 'Type of residence',\n",
       "       'No of months in current residence', 'No of months in current company',\n",
       "       'No of times 90 DPD or worse in last 6 months',\n",
       "       'No of times 60 DPD or worse in last 6 months',\n",
       "       'No of times 30 DPD or worse in last 6 months',\n",
       "       'No of times 90 DPD or worse in last 12 months',\n",
       "       'No of times 60 DPD or worse in last 12 months',\n",
       "       'No of times 30 DPD or worse in last 12 months',\n",
       "       'Avgas CC Utilization in last 12 months',\n",
       "       'No of trades opened in last 6 months',\n",
       "       'No of trades opened in last 12 months',\n",
       "       'No of PL trades opened in last 6 months',\n",
       "       'No of PL trades opened in last 12 months',\n",
       "       'No of Inquiries in last 6 months (excluding home & auto loans)',\n",
       "       'No of Inquiries in last 12 months (excluding home & auto loans)',\n",
       "       'Presence of open home loan', 'Outstanding Balance',\n",
       "       'Total No of Trades', 'Presence of open auto loan', 'Performance Tag'],\n",
       "      dtype='object')"
      ]
     },
     "execution_count": 28,
     "metadata": {},
     "output_type": "execute_result"
    }
   ],
   "source": [
    "master_df.columns"
   ]
  },
  {
   "cell_type": "code",
   "execution_count": null,
   "metadata": {},
   "outputs": [],
   "source": []
  },
  {
   "cell_type": "code",
   "execution_count": 29,
   "metadata": {},
   "outputs": [
    {
     "data": {
      "image/png": "[encoded data removed]",
      "text/plain": [
       "<Figure size 432x288 with 1 Axes>"
      ]
     },
     "metadata": {
      "needs_background": "light"
     },
     "output_type": "display_data"
    }
   ],
   "source": [
    "sns.boxplot(master_df['Age'])\n",
    "plt.show()"
   ]
  },
  {
   "cell_type": "code",
   "execution_count": 30,
   "metadata": {},
   "outputs": [
    {
     "data": {
      "text/plain": [
       "0.00    -3.0\n",
       "0.10    31.0\n",
       "0.25    37.0\n",
       "0.50    45.0\n",
       "0.75    53.0\n",
       "0.90    58.0\n",
       "1.00    65.0\n",
       "Name: Age, dtype: float64"
      ]
     },
     "execution_count": 30,
     "metadata": {},
     "output_type": "execute_result"
    }
   ],
   "source": [
    "master_df['Age'].quantile([0, 0.1, 0.25, 0.5, 0.75, 0.9, 1])"
   ]
  },
  {
   "cell_type": "code",
   "execution_count": 31,
   "metadata": {},
   "outputs": [],
   "source": [
    "master_df = master_df[master_df['Age'] >= 18]"
   ]
  },
  {
   "cell_type": "code",
   "execution_count": 32,
   "metadata": {},
   "outputs": [
    {
     "data": {
      "image/png": "[encoded data removed]",
      "text/plain": [
       "<Figure size 432x288 with 1 Axes>"
      ]
     },
     "metadata": {
      "needs_background": "light"
     },
     "output_type": "display_data"
    }
   ],
   "source": [
    "sns.boxplot(x=master_df['Performance Tag'], y=master_df['Age'])\n",
    "plt.show()"
   ]
  },
  {
   "cell_type": "code",
   "execution_count": 33,
   "metadata": {},
   "outputs": [
    {
     "data": {
      "image/png": "[encoded data removed]",
      "text/plain": [
       "<Figure size 432x288 with 1 Axes>"
      ]
     },
     "metadata": {
      "needs_background": "light"
     },
     "output_type": "display_data"
    }
   ],
   "source": [
    "sns.barplot(x=master_df['Performance Tag'], y=master_df['Age'])\n",
    "plt.show()"
   ]
  },
  {
   "cell_type": "code",
   "execution_count": null,
   "metadata": {},
   "outputs": [],
   "source": []
  },
  {
   "cell_type": "code",
   "execution_count": 34,
   "metadata": {},
   "outputs": [
    {
     "data": {
      "text/plain": [
       "1"
      ]
     },
     "execution_count": 34,
     "metadata": {},
     "output_type": "execute_result"
    }
   ],
   "source": [
    "master_df['Gender'].isnull().sum()"
   ]
  },
  {
   "cell_type": "code",
   "execution_count": 35,
   "metadata": {},
   "outputs": [],
   "source": [
    "master_df = master_df[~master_df['Gender'].isnull()]"
   ]
  },
  {
   "cell_type": "markdown",
   "metadata": {},
   "source": []
  },
  {
   "cell_type": "code",
   "execution_count": 36,
   "metadata": {},
   "outputs": [
    {
     "data": {
      "image/png": "[encoded data removed]",
      "text/plain": [
       "<Figure size 432x288 with 1 Axes>"
      ]
     },
     "metadata": {
      "needs_background": "light"
     },
     "output_type": "display_data"
    }
   ],
   "source": [
    "sns.barplot(x=master_df['Gender'], y=master_df['Performance Tag'])\n",
    "plt.show()"
   ]
  },
  {
   "cell_type": "code",
   "execution_count": 37,
   "metadata": {},
   "outputs": [
    {
     "data": {
      "image/png": "[encoded data removed]",
      "text/plain": [
       "<Figure size 432x288 with 1 Axes>"
      ]
     },
     "metadata": {
      "needs_background": "light"
     },
     "output_type": "display_data"
    }
   ],
   "source": [
    "sns.countplot(x=master_df['Gender'], hue=master_df['Performance Tag'])\n",
    "plt.show()"
   ]
  },
  {
   "cell_type": "code",
   "execution_count": null,
   "metadata": {},
   "outputs": [],
   "source": []
  },
  {
   "cell_type": "code",
   "execution_count": 38,
   "metadata": {},
   "outputs": [
    {
     "data": {
      "text/plain": [
       "5"
      ]
     },
     "execution_count": 38,
     "metadata": {},
     "output_type": "execute_result"
    }
   ],
   "source": [
    "master_df['Marital Status (at the time of application)'].isnull().sum()"
   ]
  },
  {
   "cell_type": "code",
   "execution_count": 39,
   "metadata": {},
   "outputs": [
    {
     "data": {
      "text/plain": [
       "Married    60686\n",
       "Single     10535\n",
       "Name: Marital Status (at the time of application), dtype: int64"
      ]
     },
     "execution_count": 39,
     "metadata": {},
     "output_type": "execute_result"
    }
   ],
   "source": [
    "master_df['Marital Status (at the time of application)'].value_counts()"
   ]
  },
  {
   "cell_type": "code",
   "execution_count": 40,
   "metadata": {},
   "outputs": [],
   "source": [
    "master_df = master_df[~master_df['Marital Status (at the time of application)'].isnull()]"
   ]
  },
  {
   "cell_type": "code",
   "execution_count": 41,
   "metadata": {},
   "outputs": [
    {
     "data": {
      "image/png": "[encoded data removed]",
      "text/plain": [
       "<Figure size 432x288 with 1 Axes>"
      ]
     },
     "metadata": {
      "needs_background": "light"
     },
     "output_type": "display_data"
    }
   ],
   "source": [
    "sns.countplot(master_df['Marital Status (at the time of application)'], hue=master_df['Performance Tag'])\n",
    "plt.show()"
   ]
  },
  {
   "cell_type": "code",
   "execution_count": null,
   "metadata": {},
   "outputs": [],
   "source": []
  },
  {
   "cell_type": "code",
   "execution_count": 42,
   "metadata": {},
   "outputs": [
    {
     "data": {
      "text/plain": [
       "2"
      ]
     },
     "execution_count": 42,
     "metadata": {},
     "output_type": "execute_result"
    }
   ],
   "source": [
    "master_df['No of dependents'].isnull().sum()"
   ]
  },
  {
   "cell_type": "code",
   "execution_count": 43,
   "metadata": {},
   "outputs": [
    {
     "data": {
      "text/plain": [
       "3.0    16260\n",
       "1.0    15368\n",
       "2.0    15265\n",
       "4.0    12216\n",
       "5.0    12110\n",
       "Name: No of dependents, dtype: int64"
      ]
     },
     "execution_count": 43,
     "metadata": {},
     "output_type": "execute_result"
    }
   ],
   "source": [
    "master_df['No of dependents'].value_counts()"
   ]
  },
  {
   "cell_type": "code",
   "execution_count": 44,
   "metadata": {},
   "outputs": [],
   "source": [
    "master_df = master_df[~master_df['No of dependents'].isnull()]"
   ]
  },
  {
   "cell_type": "code",
   "execution_count": 45,
   "metadata": {},
   "outputs": [
    {
     "data": {
      "image/png": "[encoded data removed]",
      "text/plain": [
       "<Figure size 432x288 with 1 Axes>"
      ]
     },
     "metadata": {
      "needs_background": "light"
     },
     "output_type": "display_data"
    }
   ],
   "source": [
    "sns.countplot(master_df['No of dependents'], hue=master_df['Performance Tag'])\n",
    "plt.show()"
   ]
  },
  {
   "cell_type": "code",
   "execution_count": null,
   "metadata": {},
   "outputs": [],
   "source": []
  },
  {
   "cell_type": "code",
   "execution_count": 46,
   "metadata": {},
   "outputs": [
    {
     "data": {
      "text/plain": [
       "0"
      ]
     },
     "execution_count": 46,
     "metadata": {},
     "output_type": "execute_result"
    }
   ],
   "source": [
    "master_df['Income'].isnull().sum()"
   ]
  },
  {
   "cell_type": "code",
   "execution_count": 47,
   "metadata": {},
   "outputs": [
    {
     "data": {
      "image/png": "[encoded data removed]",
      "text/plain": [
       "<Figure size 432x288 with 1 Axes>"
      ]
     },
     "metadata": {
      "needs_background": "light"
     },
     "output_type": "display_data"
    }
   ],
   "source": [
    "sns.boxplot(x='Performance Tag', y='Income', data=master_df)\n",
    "plt.show()"
   ]
  },
  {
   "cell_type": "code",
   "execution_count": 48,
   "metadata": {},
   "outputs": [],
   "source": [
    "master_df = master_df[master_df['Income'] > 0]"
   ]
  },
  {
   "cell_type": "code",
   "execution_count": null,
   "metadata": {},
   "outputs": [],
   "source": []
  },
  {
   "cell_type": "code",
   "execution_count": 49,
   "metadata": {},
   "outputs": [
    {
     "data": {
      "text/plain": [
       "1051"
      ]
     },
     "execution_count": 49,
     "metadata": {},
     "output_type": "execute_result"
    }
   ],
   "source": [
    "master_df['Avgas CC Utilization in last 12 months'].isnull().sum()"
   ]
  },
  {
   "cell_type": "code",
   "execution_count": 50,
   "metadata": {},
   "outputs": [
    {
     "data": {
      "text/plain": [
       "count    70062.00000\n",
       "mean        29.73896\n",
       "std         29.54722\n",
       "min          0.00000\n",
       "25%          8.00000\n",
       "50%         15.00000\n",
       "75%         46.00000\n",
       "max        113.00000\n",
       "Name: Avgas CC Utilization in last 12 months, dtype: float64"
      ]
     },
     "execution_count": 50,
     "metadata": {},
     "output_type": "execute_result"
    }
   ],
   "source": [
    "master_df['Avgas CC Utilization in last 12 months'].describe()"
   ]
  },
  {
   "cell_type": "code",
   "execution_count": 51,
   "metadata": {},
   "outputs": [],
   "source": [
    "master_df = master_df[~master_df['Avgas CC Utilization in last 12 months'].isnull()]"
   ]
  },
  {
   "cell_type": "code",
   "execution_count": 52,
   "metadata": {},
   "outputs": [
    {
     "data": {
      "image/png": "[encoded data removed]",
      "text/plain": [
       "<Figure size 432x288 with 1 Axes>"
      ]
     },
     "metadata": {
      "needs_background": "light"
     },
     "output_type": "display_data"
    }
   ],
   "source": [
    "sns.boxplot(master_df['Avgas CC Utilization in last 12 months'])\n",
    "plt.show()"
   ]
  },
  {
   "cell_type": "code",
   "execution_count": null,
   "metadata": {},
   "outputs": [],
   "source": []
  },
  {
   "cell_type": "code",
   "execution_count": 53,
   "metadata": {},
   "outputs": [
    {
     "data": {
      "text/plain": [
       "0"
      ]
     },
     "execution_count": 53,
     "metadata": {},
     "output_type": "execute_result"
    }
   ],
   "source": [
    "master_df['Outstanding Balance'].isnull().sum()"
   ]
  },
  {
   "cell_type": "code",
   "execution_count": 54,
   "metadata": {},
   "outputs": [
    {
     "data": {
      "text/plain": [
       "118"
      ]
     },
     "execution_count": 54,
     "metadata": {},
     "output_type": "execute_result"
    }
   ],
   "source": [
    "master_df['Education'].isnull().sum()"
   ]
  },
  {
   "cell_type": "code",
   "execution_count": 55,
   "metadata": {},
   "outputs": [
    {
     "data": {
      "text/plain": [
       "Professional    24402\n",
       "Masters         23562\n",
       "Bachelor        17389\n",
       "Phd              4475\n",
       "Others            116\n",
       "Name: Education, dtype: int64"
      ]
     },
     "execution_count": 55,
     "metadata": {},
     "output_type": "execute_result"
    }
   ],
   "source": [
    "master_df['Education'].value_counts()"
   ]
  },
  {
   "cell_type": "code",
   "execution_count": 56,
   "metadata": {},
   "outputs": [],
   "source": [
    "master_df = master_df[~master_df['Education'].isnull()]"
   ]
  },
  {
   "cell_type": "code",
   "execution_count": 57,
   "metadata": {},
   "outputs": [
    {
     "data": {
      "image/png": "[encoded data removed]",
      "text/plain": [
       "<Figure size 432x288 with 1 Axes>"
      ]
     },
     "metadata": {
      "needs_background": "light"
     },
     "output_type": "display_data"
    }
   ],
   "source": [
    "sns.countplot(master_df['Education'], hue=master_df['Performance Tag'])\n",
    "plt.show()"
   ]
  },
  {
   "cell_type": "code",
   "execution_count": null,
   "metadata": {},
   "outputs": [],
   "source": []
  },
  {
   "cell_type": "code",
   "execution_count": 58,
   "metadata": {},
   "outputs": [
    {
     "data": {
      "text/plain": [
       "12"
      ]
     },
     "execution_count": 58,
     "metadata": {},
     "output_type": "execute_result"
    }
   ],
   "source": [
    "master_df['Profession '].isnull().sum()"
   ]
  },
  {
   "cell_type": "code",
   "execution_count": 59,
   "metadata": {},
   "outputs": [],
   "source": [
    "master_df = master_df.rename(columns={'Profession ': 'Profession'})"
   ]
  },
  {
   "cell_type": "code",
   "execution_count": 60,
   "metadata": {},
   "outputs": [
    {
     "data": {
      "text/plain": [
       "SAL        39682\n",
       "SE_PROF    16210\n",
       "SE         14040\n",
       "Name: Profession, dtype: int64"
      ]
     },
     "execution_count": 60,
     "metadata": {},
     "output_type": "execute_result"
    }
   ],
   "source": [
    "master_df['Profession'].value_counts()"
   ]
  },
  {
   "cell_type": "code",
   "execution_count": 61,
   "metadata": {},
   "outputs": [],
   "source": [
    "master_df = master_df[~master_df['Profession'].isnull()]"
   ]
  },
  {
   "cell_type": "code",
   "execution_count": 62,
   "metadata": {},
   "outputs": [
    {
     "data": {
      "image/png": "[encoded data removed]",
      "text/plain": [
       "<Figure size 432x288 with 1 Axes>"
      ]
     },
     "metadata": {
      "needs_background": "light"
     },
     "output_type": "display_data"
    }
   ],
   "source": [
    "sns.countplot(master_df['Profession'], hue=master_df['Performance Tag'])\n",
    "plt.show()"
   ]
  },
  {
   "cell_type": "code",
   "execution_count": null,
   "metadata": {},
   "outputs": [],
   "source": []
  },
  {
   "cell_type": "code",
   "execution_count": 63,
   "metadata": {},
   "outputs": [
    {
     "data": {
      "text/plain": [
       "8"
      ]
     },
     "execution_count": 63,
     "metadata": {},
     "output_type": "execute_result"
    }
   ],
   "source": [
    "master_df['Type of residence'].isnull().sum()"
   ]
  },
  {
   "cell_type": "code",
   "execution_count": 64,
   "metadata": {},
   "outputs": [
    {
     "data": {
      "text/plain": [
       "Rented                 52382\n",
       "Owned                  13973\n",
       "Living with Parents     1770\n",
       "Company provided        1603\n",
       "Others                   196\n",
       "Name: Type of residence, dtype: int64"
      ]
     },
     "execution_count": 64,
     "metadata": {},
     "output_type": "execute_result"
    }
   ],
   "source": [
    "master_df['Type of residence'].value_counts()"
   ]
  },
  {
   "cell_type": "code",
   "execution_count": 65,
   "metadata": {},
   "outputs": [],
   "source": [
    "master_df = master_df[~master_df['Type of residence'].isnull()]"
   ]
  },
  {
   "cell_type": "code",
   "execution_count": 66,
   "metadata": {},
   "outputs": [
    {
     "data": {
      "image/png": "[encoded data removed]",
      "text/plain": [
       "<Figure size 720x432 with 1 Axes>"
      ]
     },
     "metadata": {
      "needs_background": "light"
     },
     "output_type": "display_data"
    }
   ],
   "source": [
    "plt.figure(figsize=(10,6))\n",
    "sns.countplot(master_df['Type of residence'], hue=master_df['Performance Tag'])\n",
    "plt.show()"
   ]
  },
  {
   "cell_type": "code",
   "execution_count": null,
   "metadata": {},
   "outputs": [],
   "source": []
  },
  {
   "cell_type": "code",
   "execution_count": 67,
   "metadata": {},
   "outputs": [
    {
     "data": {
      "text/plain": [
       "0"
      ]
     },
     "execution_count": 67,
     "metadata": {},
     "output_type": "execute_result"
    }
   ],
   "source": [
    "master_df['No of trades opened in last 6 months'].isnull().sum()"
   ]
  },
  {
   "cell_type": "code",
   "execution_count": null,
   "metadata": {},
   "outputs": [],
   "source": []
  },
  {
   "cell_type": "code",
   "execution_count": 68,
   "metadata": {},
   "outputs": [
    {
     "data": {
      "text/plain": [
       "Performance Tag                                                    1388\n",
       "No of times 60 DPD or worse in last 12 months                         0\n",
       "Presence of open auto loan                                            0\n",
       "Total No of Trades                                                    0\n",
       "Outstanding Balance                                                   0\n",
       "Presence of open home loan                                            0\n",
       "No of Inquiries in last 12 months (excluding home & auto loans)       0\n",
       "No of Inquiries in last 6 months (excluding home & auto loans)        0\n",
       "No of PL trades opened in last 12 months                              0\n",
       "No of PL trades opened in last 6 months                               0\n",
       "No of trades opened in last 12 months                                 0\n",
       "No of trades opened in last 6 months                                  0\n",
       "Avgas CC Utilization in last 12 months                                0\n",
       "No of times 30 DPD or worse in last 12 months                         0\n",
       "Application ID                                                        0\n",
       "Age                                                                   0\n",
       "No of times 30 DPD or worse in last 6 months                          0\n",
       "No of times 60 DPD or worse in last 6 months                          0\n",
       "No of times 90 DPD or worse in last 6 months                          0\n",
       "No of months in current company                                       0\n",
       "No of months in current residence                                     0\n",
       "Type of residence                                                     0\n",
       "Profession                                                            0\n",
       "Education                                                             0\n",
       "Income                                                                0\n",
       "No of dependents                                                      0\n",
       "Marital Status (at the time of application)                           0\n",
       "Gender                                                                0\n",
       "No of times 90 DPD or worse in last 12 months                         0\n",
       "dtype: int64"
      ]
     },
     "execution_count": 68,
     "metadata": {},
     "output_type": "execute_result"
    }
   ],
   "source": [
    "master_df.isnull().sum().sort_values(ascending=False)"
   ]
  },
  {
   "cell_type": "code",
   "execution_count": null,
   "metadata": {},
   "outputs": [],
   "source": []
  },
  {
   "cell_type": "code",
   "execution_count": 69,
   "metadata": {},
   "outputs": [
    {
     "data": {
      "image/png": "[encoded data removed]",
      "text/plain": [
       "<Figure size 432x288 with 1 Axes>"
      ]
     },
     "metadata": {
      "needs_background": "light"
     },
     "output_type": "display_data"
    }
   ],
   "source": [
    "sns.boxplot(x=master_df['Performance Tag'], y=master_df['No of months in current residence'])\n",
    "plt.show()"
   ]
  },
  {
   "cell_type": "code",
   "execution_count": 70,
   "metadata": {},
   "outputs": [
    {
     "data": {
      "image/png": "[encoded data removed]",
      "text/plain": [
       "<Figure size 432x288 with 1 Axes>"
      ]
     },
     "metadata": {
      "needs_background": "light"
     },
     "output_type": "display_data"
    }
   ],
   "source": [
    "sns.barplot(x=master_df['Performance Tag'], y=master_df['No of months in current residence'])\n",
    "plt.show()"
   ]
  },
  {
   "cell_type": "code",
   "execution_count": 71,
   "metadata": {},
   "outputs": [
    {
     "data": {
      "image/png": "[encoded data removed]",
      "text/plain": [
       "<Figure size 432x288 with 1 Axes>"
      ]
     },
     "metadata": {
      "needs_background": "light"
     },
     "output_type": "display_data"
    }
   ],
   "source": [
    "sns.barplot(x=master_df['Performance Tag'], y=master_df['No of months in current company'])\n",
    "plt.show()"
   ]
  },
  {
   "cell_type": "code",
   "execution_count": 72,
   "metadata": {},
   "outputs": [
    {
     "data": {
      "image/png": "[encoded data removed]",
      "text/plain": [
       "<Figure size 432x288 with 1 Axes>"
      ]
     },
     "metadata": {
      "needs_background": "light"
     },
     "output_type": "display_data"
    }
   ],
   "source": [
    "sns.barplot(x=master_df['Performance Tag'], y=master_df['No of times 90 DPD or worse in last 6 months'])\n",
    "plt.show()"
   ]
  },
  {
   "cell_type": "code",
   "execution_count": 73,
   "metadata": {},
   "outputs": [
    {
     "data": {
      "image/png": "[encoded data removed]",
      "text/plain": [
       "<Figure size 432x288 with 1 Axes>"
      ]
     },
     "metadata": {
      "needs_background": "light"
     },
     "output_type": "display_data"
    }
   ],
   "source": [
    "sns.barplot(x=master_df['Performance Tag'], y=master_df['No of times 60 DPD or worse in last 6 months'])\n",
    "plt.show()"
   ]
  },
  {
   "cell_type": "code",
   "execution_count": 74,
   "metadata": {},
   "outputs": [
    {
     "data": {
      "image/png": "[encoded data removed]",
      "text/plain": [
       "<Figure size 432x288 with 1 Axes>"
      ]
     },
     "metadata": {
      "needs_background": "light"
     },
     "output_type": "display_data"
    }
   ],
   "source": [
    "sns.barplot(x=master_df['Performance Tag'], y=master_df['No of times 30 DPD or worse in last 6 months'])\n",
    "plt.show()"
   ]
  },
  {
   "cell_type": "code",
   "execution_count": 75,
   "metadata": {},
   "outputs": [
    {
     "data": {
      "image/png": "[encoded data removed]",
      "text/plain": [
       "<Figure size 432x288 with 1 Axes>"
      ]
     },
     "metadata": {
      "needs_background": "light"
     },
     "output_type": "display_data"
    }
   ],
   "source": [
    "sns.barplot(x=master_df['Performance Tag'], y=master_df['No of times 90 DPD or worse in last 12 months'])\n",
    "plt.show()"
   ]
  },
  {
   "cell_type": "code",
   "execution_count": 76,
   "metadata": {},
   "outputs": [
    {
     "data": {
      "image/png": "[encoded data removed]",
      "text/plain": [
       "<Figure size 432x288 with 1 Axes>"
      ]
     },
     "metadata": {
      "needs_background": "light"
     },
     "output_type": "display_data"
    }
   ],
   "source": [
    "sns.barplot(x=master_df['Performance Tag'], y=master_df['No of times 60 DPD or worse in last 12 months'])\n",
    "plt.show()"
   ]
  },
  {
   "cell_type": "code",
   "execution_count": 77,
   "metadata": {},
   "outputs": [
    {
     "data": {
      "image/png": "[encoded data removed]",
      "text/plain": [
       "<Figure size 432x288 with 1 Axes>"
      ]
     },
     "metadata": {
      "needs_background": "light"
     },
     "output_type": "display_data"
    }
   ],
   "source": [
    "sns.barplot(x=master_df['Performance Tag'], y=master_df['No of times 30 DPD or worse in last 12 months'])\n",
    "plt.show()"
   ]
  },
  {
   "cell_type": "code",
   "execution_count": 78,
   "metadata": {},
   "outputs": [
    {
     "data": {
      "image/png": "[encoded data removed]",
      "text/plain": [
       "<Figure size 432x288 with 1 Axes>"
      ]
     },
     "metadata": {
      "needs_background": "light"
     },
     "output_type": "display_data"
    }
   ],
   "source": [
    "sns.barplot(x=master_df['Performance Tag'], y=master_df['No of trades opened in last 6 months'])\n",
    "plt.show()"
   ]
  },
  {
   "cell_type": "code",
   "execution_count": 79,
   "metadata": {},
   "outputs": [
    {
     "data": {
      "image/png": "[encoded data removed]",
      "text/plain": [
       "<Figure size 432x288 with 1 Axes>"
      ]
     },
     "metadata": {
      "needs_background": "light"
     },
     "output_type": "display_data"
    }
   ],
   "source": [
    "sns.barplot(x=master_df['Performance Tag'], y=master_df['No of trades opened in last 12 months'])\n",
    "plt.show()"
   ]
  },
  {
   "cell_type": "code",
   "execution_count": 80,
   "metadata": {},
   "outputs": [
    {
     "data": {
      "image/png": "[encoded data removed]",
      "text/plain": [
       "<Figure size 432x288 with 1 Axes>"
      ]
     },
     "metadata": {
      "needs_background": "light"
     },
     "output_type": "display_data"
    }
   ],
   "source": [
    "sns.barplot(x=master_df['Performance Tag'], y=master_df['No of PL trades opened in last 6 months'])\n",
    "plt.show()"
   ]
  },
  {
   "cell_type": "code",
   "execution_count": 81,
   "metadata": {},
   "outputs": [
    {
     "data": {
      "image/png": "[encoded data removed]",
      "text/plain": [
       "<Figure size 432x288 with 1 Axes>"
      ]
     },
     "metadata": {
      "needs_background": "light"
     },
     "output_type": "display_data"
    }
   ],
   "source": [
    "sns.barplot(x=master_df['Performance Tag'], y=master_df['No of PL trades opened in last 12 months'])\n",
    "plt.show()"
   ]
  },
  {
   "cell_type": "code",
   "execution_count": 82,
   "metadata": {},
   "outputs": [
    {
     "data": {
      "image/png": "[encoded data removed]",
      "text/plain": [
       "<Figure size 432x288 with 1 Axes>"
      ]
     },
     "metadata": {
      "needs_background": "light"
     },
     "output_type": "display_data"
    }
   ],
   "source": [
    "sns.barplot(x=master_df['Performance Tag'], y=master_df['No of Inquiries in last 6 months (excluding home & auto loans)'])\n",
    "plt.show()"
   ]
  },
  {
   "cell_type": "code",
   "execution_count": 83,
   "metadata": {},
   "outputs": [
    {
     "data": {
      "image/png": "[encoded data removed]",
      "text/plain": [
       "<Figure size 432x288 with 1 Axes>"
      ]
     },
     "metadata": {
      "needs_background": "light"
     },
     "output_type": "display_data"
    }
   ],
   "source": [
    "sns.barplot(x=master_df['Performance Tag'], y=master_df['No of Inquiries in last 12 months (excluding home & auto loans)'])\n",
    "plt.show()"
   ]
  },
  {
   "cell_type": "code",
   "execution_count": 84,
   "metadata": {},
   "outputs": [
    {
     "data": {
      "image/png": "[encoded data removed]",
      "text/plain": [
       "<Figure size 432x288 with 1 Axes>"
      ]
     },
     "metadata": {
      "needs_background": "light"
     },
     "output_type": "display_data"
    }
   ],
   "source": [
    "sns.countplot(hue=master_df['Performance Tag'], x=master_df['Presence of open home loan'])\n",
    "plt.show()"
   ]
  },
  {
   "cell_type": "code",
   "execution_count": 85,
   "metadata": {},
   "outputs": [
    {
     "data": {
      "image/png": "[encoded data removed]",
      "text/plain": [
       "<Figure size 432x288 with 1 Axes>"
      ]
     },
     "metadata": {
      "needs_background": "light"
     },
     "output_type": "display_data"
    }
   ],
   "source": [
    "sns.countplot(hue=master_df['Performance Tag'], x=master_df['Presence of open auto loan'])\n",
    "plt.show()"
   ]
  },
  {
   "cell_type": "code",
   "execution_count": 86,
   "metadata": {},
   "outputs": [
    {
     "data": {
      "image/png": "[encoded data removed]",
      "text/plain": [
       "<Figure size 432x288 with 1 Axes>"
      ]
     },
     "metadata": {
      "needs_background": "light"
     },
     "output_type": "display_data"
    }
   ],
   "source": [
    "sns.barplot(x=master_df['Performance Tag'], y=master_df['Outstanding Balance'])\n",
    "plt.show()"
   ]
  },
  {
   "cell_type": "code",
   "execution_count": 87,
   "metadata": {},
   "outputs": [
    {
     "data": {
      "image/png": "[encoded data removed]",
      "text/plain": [
       "<Figure size 432x288 with 1 Axes>"
      ]
     },
     "metadata": {
      "needs_background": "light"
     },
     "output_type": "display_data"
    }
   ],
   "source": [
    "sns.barplot(x=master_df['Performance Tag'], y=master_df['Total No of Trades'])\n",
    "plt.show()"
   ]
  },
  {
   "cell_type": "code",
   "execution_count": null,
   "metadata": {},
   "outputs": [],
   "source": []
  },
  {
   "cell_type": "code",
   "execution_count": 88,
   "metadata": {},
   "outputs": [
    {
     "data": {
      "text/html": [
       "<div>\n",
       "<style scoped>\n",
       "    .dataframe tbody tr th:only-of-type {\n",
       "        vertical-align: middle;\n",
       "    }\n",
       "\n",
       "    .dataframe tbody tr th {\n",
       "        vertical-align: top;\n",
       "    }\n",
       "\n",
       "    .dataframe thead th {\n",
       "        text-align: right;\n",
       "    }\n",
       "</style>\n",
       "<table border=\"1\" class=\"dataframe\">\n",
       "  <thead>\n",
       "    <tr style=\"text-align: right;\">\n",
       "      <th></th>\n",
       "      <th>Application ID</th>\n",
       "      <th>Age</th>\n",
       "      <th>Gender</th>\n",
       "      <th>Marital Status (at the time of application)</th>\n",
       "      <th>No of dependents</th>\n",
       "      <th>Income</th>\n",
       "      <th>Education</th>\n",
       "      <th>Profession</th>\n",
       "      <th>Type of residence</th>\n",
       "      <th>No of months in current residence</th>\n",
       "      <th>...</th>\n",
       "      <th>No of trades opened in last 12 months</th>\n",
       "      <th>No of PL trades opened in last 6 months</th>\n",
       "      <th>No of PL trades opened in last 12 months</th>\n",
       "      <th>No of Inquiries in last 6 months (excluding home &amp; auto loans)</th>\n",
       "      <th>No of Inquiries in last 12 months (excluding home &amp; auto loans)</th>\n",
       "      <th>Presence of open home loan</th>\n",
       "      <th>Outstanding Balance</th>\n",
       "      <th>Total No of Trades</th>\n",
       "      <th>Presence of open auto loan</th>\n",
       "      <th>Performance Tag</th>\n",
       "    </tr>\n",
       "  </thead>\n",
       "  <tbody>\n",
       "    <tr>\n",
       "      <th>0</th>\n",
       "      <td>954457215</td>\n",
       "      <td>48</td>\n",
       "      <td>F</td>\n",
       "      <td>Married</td>\n",
       "      <td>2.0</td>\n",
       "      <td>40.0</td>\n",
       "      <td>Bachelor</td>\n",
       "      <td>SAL</td>\n",
       "      <td>Rented</td>\n",
       "      <td>113</td>\n",
       "      <td>...</td>\n",
       "      <td>2</td>\n",
       "      <td>0</td>\n",
       "      <td>0</td>\n",
       "      <td>0</td>\n",
       "      <td>0</td>\n",
       "      <td>1.0</td>\n",
       "      <td>2999395.0</td>\n",
       "      <td>4</td>\n",
       "      <td>0</td>\n",
       "      <td>0.0</td>\n",
       "    </tr>\n",
       "    <tr>\n",
       "      <th>1</th>\n",
       "      <td>432830445</td>\n",
       "      <td>31</td>\n",
       "      <td>M</td>\n",
       "      <td>Married</td>\n",
       "      <td>4.0</td>\n",
       "      <td>55.0</td>\n",
       "      <td>Professional</td>\n",
       "      <td>SE_PROF</td>\n",
       "      <td>Rented</td>\n",
       "      <td>112</td>\n",
       "      <td>...</td>\n",
       "      <td>2</td>\n",
       "      <td>0</td>\n",
       "      <td>0</td>\n",
       "      <td>0</td>\n",
       "      <td>0</td>\n",
       "      <td>0.0</td>\n",
       "      <td>3078.0</td>\n",
       "      <td>5</td>\n",
       "      <td>0</td>\n",
       "      <td>0.0</td>\n",
       "    </tr>\n",
       "    <tr>\n",
       "      <th>2</th>\n",
       "      <td>941387308</td>\n",
       "      <td>32</td>\n",
       "      <td>M</td>\n",
       "      <td>Single</td>\n",
       "      <td>2.0</td>\n",
       "      <td>46.0</td>\n",
       "      <td>Bachelor</td>\n",
       "      <td>SE_PROF</td>\n",
       "      <td>Rented</td>\n",
       "      <td>104</td>\n",
       "      <td>...</td>\n",
       "      <td>0</td>\n",
       "      <td>0</td>\n",
       "      <td>0</td>\n",
       "      <td>0</td>\n",
       "      <td>0</td>\n",
       "      <td>1.0</td>\n",
       "      <td>3004972.0</td>\n",
       "      <td>2</td>\n",
       "      <td>0</td>\n",
       "      <td>0.0</td>\n",
       "    </tr>\n",
       "    <tr>\n",
       "      <th>3</th>\n",
       "      <td>392161677</td>\n",
       "      <td>43</td>\n",
       "      <td>M</td>\n",
       "      <td>Married</td>\n",
       "      <td>1.0</td>\n",
       "      <td>53.0</td>\n",
       "      <td>Bachelor</td>\n",
       "      <td>SE</td>\n",
       "      <td>Rented</td>\n",
       "      <td>94</td>\n",
       "      <td>...</td>\n",
       "      <td>1</td>\n",
       "      <td>0</td>\n",
       "      <td>0</td>\n",
       "      <td>0</td>\n",
       "      <td>0</td>\n",
       "      <td>1.0</td>\n",
       "      <td>3355373.0</td>\n",
       "      <td>4</td>\n",
       "      <td>1</td>\n",
       "      <td>0.0</td>\n",
       "    </tr>\n",
       "    <tr>\n",
       "      <th>4</th>\n",
       "      <td>182011211</td>\n",
       "      <td>35</td>\n",
       "      <td>F</td>\n",
       "      <td>Married</td>\n",
       "      <td>5.0</td>\n",
       "      <td>44.0</td>\n",
       "      <td>Professional</td>\n",
       "      <td>SAL</td>\n",
       "      <td>Rented</td>\n",
       "      <td>112</td>\n",
       "      <td>...</td>\n",
       "      <td>1</td>\n",
       "      <td>0</td>\n",
       "      <td>0</td>\n",
       "      <td>0</td>\n",
       "      <td>0</td>\n",
       "      <td>1.0</td>\n",
       "      <td>3014283.0</td>\n",
       "      <td>4</td>\n",
       "      <td>0</td>\n",
       "      <td>0.0</td>\n",
       "    </tr>\n",
       "  </tbody>\n",
       "</table>\n",
       "<p>5 rows × 29 columns</p>\n",
       "</div>"
      ],
      "text/plain": [
       "   Application ID  Age Gender Marital Status (at the time of application)  \\\n",
       "0       954457215   48      F                                     Married   \n",
       "1       432830445   31      M                                     Married   \n",
       "2       941387308   32      M                                      Single   \n",
       "3       392161677   43      M                                     Married   \n",
       "4       182011211   35      F                                     Married   \n",
       "\n",
       "   No of dependents  Income     Education Profession Type of residence  \\\n",
       "0               2.0    40.0      Bachelor        SAL            Rented   \n",
       "1               4.0    55.0  Professional    SE_PROF            Rented   \n",
       "2               2.0    46.0      Bachelor    SE_PROF            Rented   \n",
       "3               1.0    53.0      Bachelor         SE            Rented   \n",
       "4               5.0    44.0  Professional        SAL            Rented   \n",
       "\n",
       "   No of months in current residence  ...  \\\n",
       "0                                113  ...   \n",
       "1                                112  ...   \n",
       "2                                104  ...   \n",
       "3                                 94  ...   \n",
       "4                                112  ...   \n",
       "\n",
       "   No of trades opened in last 12 months  \\\n",
       "0                                      2   \n",
       "1                                      2   \n",
       "2                                      0   \n",
       "3                                      1   \n",
       "4                                      1   \n",
       "\n",
       "   No of PL trades opened in last 6 months  \\\n",
       "0                                        0   \n",
       "1                                        0   \n",
       "2                                        0   \n",
       "3                                        0   \n",
       "4                                        0   \n",
       "\n",
       "   No of PL trades opened in last 12 months  \\\n",
       "0                                         0   \n",
       "1                                         0   \n",
       "2                                         0   \n",
       "3                                         0   \n",
       "4                                         0   \n",
       "\n",
       "   No of Inquiries in last 6 months (excluding home & auto loans)  \\\n",
       "0                                                  0                \n",
       "1                                                  0                \n",
       "2                                                  0                \n",
       "3                                                  0                \n",
       "4                                                  0                \n",
       "\n",
       "   No of Inquiries in last 12 months (excluding home & auto loans)  \\\n",
       "0                                                  0                 \n",
       "1                                                  0                 \n",
       "2                                                  0                 \n",
       "3                                                  0                 \n",
       "4                                                  0                 \n",
       "\n",
       "   Presence of open home loan  Outstanding Balance  Total No of Trades  \\\n",
       "0                         1.0            2999395.0                   4   \n",
       "1                         0.0               3078.0                   5   \n",
       "2                         1.0            3004972.0                   2   \n",
       "3                         1.0            3355373.0                   4   \n",
       "4                         1.0            3014283.0                   4   \n",
       "\n",
       "   Presence of open auto loan  Performance Tag  \n",
       "0                           0              0.0  \n",
       "1                           0              0.0  \n",
       "2                           0              0.0  \n",
       "3                           1              0.0  \n",
       "4                           0              0.0  \n",
       "\n",
       "[5 rows x 29 columns]"
      ]
     },
     "execution_count": 88,
     "metadata": {},
     "output_type": "execute_result"
    }
   ],
   "source": [
    "master_df.head()"
   ]
  },
  {
   "cell_type": "markdown",
   "metadata": {},
   "source": []
  },
  {
   "cell_type": "code",
   "execution_count": 89,
   "metadata": {},
   "outputs": [],
   "source": [
    "rejected_df = master_df[master_df['Performance Tag'].isnull()]"
   ]
  },
  {
   "cell_type": "code",
   "execution_count": 90,
   "metadata": {},
   "outputs": [
    {
     "data": {
      "text/plain": [
       "1388"
      ]
     },
     "execution_count": 90,
     "metadata": {},
     "output_type": "execute_result"
    }
   ],
   "source": [
    "len(rejected_df)"
   ]
  },
  {
   "cell_type": "code",
   "execution_count": 91,
   "metadata": {},
   "outputs": [],
   "source": [
    "master_df = master_df[~master_df['Performance Tag'].isnull()]"
   ]
  },
  {
   "cell_type": "code",
   "execution_count": 92,
   "metadata": {},
   "outputs": [
    {
     "data": {
      "text/plain": [
       "68536"
      ]
     },
     "execution_count": 92,
     "metadata": {},
     "output_type": "execute_result"
    }
   ],
   "source": [
    "len(master_df)"
   ]
  },
  {
   "cell_type": "code",
   "execution_count": 93,
   "metadata": {},
   "outputs": [],
   "source": [
    "master_df.to_csv('Master_DF.csv', index=False)\n",
    "\n"
   ]
  },
  {
   "cell_type": "code",
   "execution_count": 94,
   "metadata": {},
   "outputs": [],
   "source": [
    "rejected_df.to_csv('Rejected_DF.csv', index=False)"
   ]
  },
  {
   "cell_type": "code",
   "execution_count": null,
   "metadata": {},
   "outputs": [],
   "source": []
  }
 ],
 "metadata": {
  "kernelspec": {
   "display_name": "Python 3",
   "language": "python",
   "name": "python3"
  },
  "language_info": {
   "codemirror_mode": {
    "name": "ipython",
    "version": 3
   },
   "file_extension": ".py",
   "mimetype": "text/x-python",
   "name": "python",
   "nbconvert_exporter": "python",
   "pygments_lexer": "ipython3",
   "version": "3.9.9"
  },
  "orig_nbformat": 4
 },
 "nbformat": 4,
 "nbformat_minor": 2
}
